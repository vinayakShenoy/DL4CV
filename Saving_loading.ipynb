{
 "cells": [
  {
   "cell_type": "markdown",
   "metadata": {},
   "source": [
    "# Saving and loading models\n",
    "- The process of saving and loading a trained model is called model serialization.\n",
    "\n",
    "## Serializing a Model to Disk\n",
    "- Calling model.save to save model to disk and calling load_model to loading a saved model from disk"
   ]
  },
  {
   "cell_type": "code",
   "execution_count": 32,
   "metadata": {},
   "outputs": [],
   "source": [
    "from sklearn.preprocessing import LabelBinarizer\n",
    "from sklearn.model_selection import train_test_split\n",
    "from sklearn.metrics import classification_report\n",
    "from tensorflow.keras.optimizers import SGD\n",
    "from imutils import paths\n",
    "import matplotlib.pyplot as plt\n",
    "import numpy as np\n",
    "from tensorflow.keras.models import load_model\n",
    "import import_ipynb\n",
    "from utils import ImageToArrayPreprocessor, SimplePreprocessor, SimpleDatasetLoader\n",
    "from ShallowNet import ShallowNet\n",
    "import cv2"
   ]
  },
  {
   "cell_type": "code",
   "execution_count": 33,
   "metadata": {},
   "outputs": [],
   "source": [
    "args = {\n",
    "    \"dataset\":\"/home/vinayak/Desktop/PyImageSearch/DL4CV/dogs-v-cats/animals/animals/\",\n",
    "    \"model_path\":\"/home/vinayak/Desktop/PyImageSearch/DL4CV/Code/shallownet_weights.hdf5\"\n",
    "}"
   ]
  },
  {
   "cell_type": "code",
   "execution_count": 34,
   "metadata": {},
   "outputs": [
    {
     "name": "stdout",
     "output_type": "stream",
     "text": [
      "[INFO] loading images\n",
      "[INFO] processed 500/3000\n",
      "[INFO] processed 1000/3000\n",
      "[INFO] processed 1500/3000\n",
      "[INFO] processed 2000/3000\n",
      "[INFO] processed 2500/3000\n",
      "[INFO] processed 3000/3000\n"
     ]
    }
   ],
   "source": [
    "print(\"[INFO] loading images\")\n",
    "imagePaths = list(paths.list_images(args[\"dataset\"]))\n",
    "\n",
    "sp = SimplePreprocessor(32, 32)\n",
    "iap = ImageToArrayPreprocessor()\n",
    "\n",
    "sdl = SimpleDatasetLoader(preprocessors=[sp, iap])\n",
    "(data, labels) = sdl.load(imagePaths, verbose=500)\n",
    "data = data.astype(\"float\")/255.0"
   ]
  },
  {
   "cell_type": "code",
   "execution_count": 12,
   "metadata": {},
   "outputs": [],
   "source": [
    "(trainX, testX, trainY, testY) = train_test_split(data, labels, \n",
    "                                                 test_size=0.25, random_state=42)\n",
    "trainY = LabelBinarizer().fit_transform(trainY)\n",
    "testY = LabelBinarizer().fit_transform(testY)"
   ]
  },
  {
   "cell_type": "code",
   "execution_count": 15,
   "metadata": {
    "scrolled": true
   },
   "outputs": [
    {
     "name": "stdout",
     "output_type": "stream",
     "text": [
      "INFO compiling model\n",
      "[info] training network\n",
      "Epoch 1/100\n",
      "71/71 [==============================] - 1s 10ms/step - loss: 1.0000 - accuracy: 0.4724 - val_loss: 0.9414 - val_accuracy: 0.5120\n",
      "Epoch 2/100\n",
      "71/71 [==============================] - 1s 11ms/step - loss: 0.9159 - accuracy: 0.5409 - val_loss: 0.9596 - val_accuracy: 0.4920\n",
      "Epoch 3/100\n",
      "71/71 [==============================] - 1s 10ms/step - loss: 0.8867 - accuracy: 0.5462 - val_loss: 0.9489 - val_accuracy: 0.5267\n",
      "Epoch 4/100\n",
      "71/71 [==============================] - 1s 11ms/step - loss: 0.8601 - accuracy: 0.5720 - val_loss: 0.8977 - val_accuracy: 0.5253\n",
      "Epoch 5/100\n",
      "71/71 [==============================] - 1s 11ms/step - loss: 0.8340 - accuracy: 0.5778 - val_loss: 0.9030 - val_accuracy: 0.5173\n",
      "Epoch 6/100\n",
      "71/71 [==============================] - 1s 12ms/step - loss: 0.8196 - accuracy: 0.5933 - val_loss: 1.0193 - val_accuracy: 0.5133\n",
      "Epoch 7/100\n",
      "71/71 [==============================] - 1s 10ms/step - loss: 0.8088 - accuracy: 0.5978 - val_loss: 0.9160 - val_accuracy: 0.5587\n",
      "Epoch 8/100\n",
      "71/71 [==============================] - 1s 11ms/step - loss: 0.7934 - accuracy: 0.6031 - val_loss: 0.9365 - val_accuracy: 0.5413\n",
      "Epoch 9/100\n",
      "71/71 [==============================] - 1s 11ms/step - loss: 0.7970 - accuracy: 0.6071 - val_loss: 0.8615 - val_accuracy: 0.5600\n",
      "Epoch 10/100\n",
      "71/71 [==============================] - 1s 11ms/step - loss: 0.7886 - accuracy: 0.6222 - val_loss: 0.9386 - val_accuracy: 0.5347\n",
      "Epoch 11/100\n",
      "71/71 [==============================] - 1s 13ms/step - loss: 0.7749 - accuracy: 0.6267 - val_loss: 0.9001 - val_accuracy: 0.5253\n",
      "Epoch 12/100\n",
      "71/71 [==============================] - 1s 12ms/step - loss: 0.7704 - accuracy: 0.6356 - val_loss: 0.8828 - val_accuracy: 0.5547\n",
      "Epoch 13/100\n",
      "71/71 [==============================] - 1s 12ms/step - loss: 0.7657 - accuracy: 0.6289 - val_loss: 0.9262 - val_accuracy: 0.5227\n",
      "Epoch 14/100\n",
      "71/71 [==============================] - 1s 11ms/step - loss: 0.7553 - accuracy: 0.6364 - val_loss: 0.8546 - val_accuracy: 0.5600\n",
      "Epoch 15/100\n",
      "71/71 [==============================] - 1s 11ms/step - loss: 0.7497 - accuracy: 0.6533 - val_loss: 0.9062 - val_accuracy: 0.5520\n",
      "Epoch 16/100\n",
      "71/71 [==============================] - 1s 13ms/step - loss: 0.7498 - accuracy: 0.6520 - val_loss: 0.8392 - val_accuracy: 0.5827\n",
      "Epoch 17/100\n",
      "71/71 [==============================] - 1s 11ms/step - loss: 0.7348 - accuracy: 0.6587 - val_loss: 0.9073 - val_accuracy: 0.5427\n",
      "Epoch 18/100\n",
      "71/71 [==============================] - 1s 11ms/step - loss: 0.7301 - accuracy: 0.6684 - val_loss: 0.9604 - val_accuracy: 0.5387\n",
      "Epoch 19/100\n",
      "71/71 [==============================] - 1s 10ms/step - loss: 0.7256 - accuracy: 0.6653 - val_loss: 0.8244 - val_accuracy: 0.5947\n",
      "Epoch 20/100\n",
      "71/71 [==============================] - 1s 10ms/step - loss: 0.7184 - accuracy: 0.6720 - val_loss: 0.9280 - val_accuracy: 0.5507\n",
      "Epoch 21/100\n",
      "71/71 [==============================] - 1s 10ms/step - loss: 0.7179 - accuracy: 0.6631 - val_loss: 0.8223 - val_accuracy: 0.6107\n",
      "Epoch 22/100\n",
      "71/71 [==============================] - 1s 10ms/step - loss: 0.7055 - accuracy: 0.6756 - val_loss: 0.8351 - val_accuracy: 0.5840\n",
      "Epoch 23/100\n",
      "71/71 [==============================] - 1s 10ms/step - loss: 0.6994 - accuracy: 0.6813 - val_loss: 0.8109 - val_accuracy: 0.6120\n",
      "Epoch 24/100\n",
      "71/71 [==============================] - 1s 10ms/step - loss: 0.6986 - accuracy: 0.6751 - val_loss: 0.8570 - val_accuracy: 0.6080\n",
      "Epoch 25/100\n",
      "71/71 [==============================] - 1s 11ms/step - loss: 0.6923 - accuracy: 0.6800 - val_loss: 0.8384 - val_accuracy: 0.5600\n",
      "Epoch 26/100\n",
      "71/71 [==============================] - 1s 10ms/step - loss: 0.6859 - accuracy: 0.6840 - val_loss: 0.8382 - val_accuracy: 0.5600\n",
      "Epoch 27/100\n",
      "71/71 [==============================] - 1s 10ms/step - loss: 0.6790 - accuracy: 0.6849 - val_loss: 0.8119 - val_accuracy: 0.6107\n",
      "Epoch 28/100\n",
      "71/71 [==============================] - 1s 10ms/step - loss: 0.6671 - accuracy: 0.6978 - val_loss: 0.8028 - val_accuracy: 0.6253\n",
      "Epoch 29/100\n",
      "71/71 [==============================] - 1s 15ms/step - loss: 0.6626 - accuracy: 0.7036 - val_loss: 0.8722 - val_accuracy: 0.5613\n",
      "Epoch 30/100\n",
      "71/71 [==============================] - 1s 15ms/step - loss: 0.6563 - accuracy: 0.7076 - val_loss: 0.8672 - val_accuracy: 0.6107\n",
      "Epoch 31/100\n",
      "71/71 [==============================] - 1s 13ms/step - loss: 0.6560 - accuracy: 0.7107 - val_loss: 0.7933 - val_accuracy: 0.6373\n",
      "Epoch 32/100\n",
      "71/71 [==============================] - 1s 13ms/step - loss: 0.6440 - accuracy: 0.7151 - val_loss: 0.8696 - val_accuracy: 0.5507\n",
      "Epoch 33/100\n",
      "71/71 [==============================] - 1s 11ms/step - loss: 0.6387 - accuracy: 0.7156 - val_loss: 0.7970 - val_accuracy: 0.6253\n",
      "Epoch 34/100\n",
      "71/71 [==============================] - 1s 11ms/step - loss: 0.6313 - accuracy: 0.7227 - val_loss: 0.9009 - val_accuracy: 0.5880\n",
      "Epoch 35/100\n",
      "71/71 [==============================] - 1s 13ms/step - loss: 0.6303 - accuracy: 0.7338 - val_loss: 0.8424 - val_accuracy: 0.6053\n",
      "Epoch 36/100\n",
      "71/71 [==============================] - 1s 11ms/step - loss: 0.6229 - accuracy: 0.7271 - val_loss: 0.7735 - val_accuracy: 0.6507\n",
      "Epoch 37/100\n",
      "71/71 [==============================] - 1s 10ms/step - loss: 0.6116 - accuracy: 0.7324 - val_loss: 0.7743 - val_accuracy: 0.6400\n",
      "Epoch 38/100\n",
      "71/71 [==============================] - 1s 10ms/step - loss: 0.6086 - accuracy: 0.7329 - val_loss: 0.8408 - val_accuracy: 0.6067\n",
      "Epoch 39/100\n",
      "71/71 [==============================] - 1s 11ms/step - loss: 0.6078 - accuracy: 0.7391 - val_loss: 0.8651 - val_accuracy: 0.5827\n",
      "Epoch 40/100\n",
      "71/71 [==============================] - 1s 10ms/step - loss: 0.5986 - accuracy: 0.7396 - val_loss: 0.8737 - val_accuracy: 0.5760\n",
      "Epoch 41/100\n",
      "71/71 [==============================] - 1s 11ms/step - loss: 0.5879 - accuracy: 0.7351 - val_loss: 0.7997 - val_accuracy: 0.6347\n",
      "Epoch 42/100\n",
      "71/71 [==============================] - 1s 10ms/step - loss: 0.5839 - accuracy: 0.7507 - val_loss: 0.7976 - val_accuracy: 0.6173\n",
      "Epoch 43/100\n",
      "71/71 [==============================] - 1s 10ms/step - loss: 0.5757 - accuracy: 0.7480 - val_loss: 0.8149 - val_accuracy: 0.6040\n",
      "Epoch 44/100\n",
      "71/71 [==============================] - 1s 11ms/step - loss: 0.5727 - accuracy: 0.7524 - val_loss: 0.7638 - val_accuracy: 0.6480\n",
      "Epoch 45/100\n",
      "71/71 [==============================] - 1s 10ms/step - loss: 0.5694 - accuracy: 0.7622 - val_loss: 0.7546 - val_accuracy: 0.6640\n",
      "Epoch 46/100\n",
      "71/71 [==============================] - 1s 11ms/step - loss: 0.5634 - accuracy: 0.7653 - val_loss: 0.7570 - val_accuracy: 0.6627\n",
      "Epoch 47/100\n",
      "71/71 [==============================] - 1s 11ms/step - loss: 0.5545 - accuracy: 0.7640 - val_loss: 0.7675 - val_accuracy: 0.6560\n",
      "Epoch 48/100\n",
      "71/71 [==============================] - 1s 11ms/step - loss: 0.5479 - accuracy: 0.7627 - val_loss: 0.7640 - val_accuracy: 0.6493\n",
      "Epoch 49/100\n",
      "71/71 [==============================] - 1s 11ms/step - loss: 0.5469 - accuracy: 0.7662 - val_loss: 0.7589 - val_accuracy: 0.6587\n",
      "Epoch 50/100\n",
      "71/71 [==============================] - 1s 11ms/step - loss: 0.5350 - accuracy: 0.7804 - val_loss: 0.7613 - val_accuracy: 0.6600\n",
      "Epoch 51/100\n",
      "71/71 [==============================] - 1s 10ms/step - loss: 0.5355 - accuracy: 0.7773 - val_loss: 0.8172 - val_accuracy: 0.6373\n",
      "Epoch 52/100\n",
      "71/71 [==============================] - 1s 11ms/step - loss: 0.5321 - accuracy: 0.7853 - val_loss: 0.7764 - val_accuracy: 0.6493\n",
      "Epoch 53/100\n",
      "71/71 [==============================] - 1s 10ms/step - loss: 0.5223 - accuracy: 0.7791 - val_loss: 0.7460 - val_accuracy: 0.6693\n",
      "Epoch 54/100\n",
      "71/71 [==============================] - 1s 12ms/step - loss: 0.5182 - accuracy: 0.7836 - val_loss: 0.7491 - val_accuracy: 0.6693\n",
      "Epoch 55/100\n",
      "71/71 [==============================] - 1s 10ms/step - loss: 0.5162 - accuracy: 0.7849 - val_loss: 0.7485 - val_accuracy: 0.6787\n",
      "Epoch 56/100\n",
      "71/71 [==============================] - 1s 11ms/step - loss: 0.5137 - accuracy: 0.7791 - val_loss: 0.7664 - val_accuracy: 0.6600\n",
      "Epoch 57/100\n",
      "71/71 [==============================] - 1s 11ms/step - loss: 0.5088 - accuracy: 0.7871 - val_loss: 0.7925 - val_accuracy: 0.6667\n",
      "Epoch 58/100\n"
     ]
    },
    {
     "name": "stdout",
     "output_type": "stream",
     "text": [
      "71/71 [==============================] - 1s 11ms/step - loss: 0.5081 - accuracy: 0.7818 - val_loss: 0.7608 - val_accuracy: 0.6707\n",
      "Epoch 59/100\n",
      "71/71 [==============================] - 1s 10ms/step - loss: 0.4922 - accuracy: 0.8040 - val_loss: 0.7476 - val_accuracy: 0.6813\n",
      "Epoch 60/100\n",
      "71/71 [==============================] - 1s 15ms/step - loss: 0.5043 - accuracy: 0.7880 - val_loss: 0.7413 - val_accuracy: 0.6813\n",
      "Epoch 61/100\n",
      "71/71 [==============================] - 1s 15ms/step - loss: 0.4893 - accuracy: 0.8049 - val_loss: 0.7836 - val_accuracy: 0.6480\n",
      "Epoch 62/100\n",
      "71/71 [==============================] - 1s 15ms/step - loss: 0.4848 - accuracy: 0.8071 - val_loss: 0.7662 - val_accuracy: 0.6720\n",
      "Epoch 63/100\n",
      "71/71 [==============================] - 1s 14ms/step - loss: 0.4809 - accuracy: 0.8049 - val_loss: 0.7470 - val_accuracy: 0.6773\n",
      "Epoch 64/100\n",
      "71/71 [==============================] - 1s 14ms/step - loss: 0.4761 - accuracy: 0.8044 - val_loss: 0.7546 - val_accuracy: 0.6747\n",
      "Epoch 65/100\n",
      "71/71 [==============================] - 1s 12ms/step - loss: 0.4698 - accuracy: 0.8129 - val_loss: 0.7502 - val_accuracy: 0.6707\n",
      "Epoch 66/100\n",
      "71/71 [==============================] - 1s 10ms/step - loss: 0.4704 - accuracy: 0.8009 - val_loss: 0.7678 - val_accuracy: 0.6627\n",
      "Epoch 67/100\n",
      "71/71 [==============================] - 1s 11ms/step - loss: 0.4652 - accuracy: 0.8089 - val_loss: 0.7851 - val_accuracy: 0.6507\n",
      "Epoch 68/100\n",
      "71/71 [==============================] - 1s 11ms/step - loss: 0.4565 - accuracy: 0.8218 - val_loss: 0.7871 - val_accuracy: 0.6573\n",
      "Epoch 69/100\n",
      "71/71 [==============================] - 1s 10ms/step - loss: 0.4565 - accuracy: 0.8200 - val_loss: 0.7448 - val_accuracy: 0.6827\n",
      "Epoch 70/100\n",
      "71/71 [==============================] - 1s 11ms/step - loss: 0.4477 - accuracy: 0.8222 - val_loss: 0.8204 - val_accuracy: 0.6333\n",
      "Epoch 71/100\n",
      "71/71 [==============================] - 1s 11ms/step - loss: 0.4486 - accuracy: 0.8227 - val_loss: 0.7478 - val_accuracy: 0.6787\n",
      "Epoch 72/100\n",
      "71/71 [==============================] - 1s 10ms/step - loss: 0.4417 - accuracy: 0.8253 - val_loss: 0.7796 - val_accuracy: 0.6707\n",
      "Epoch 73/100\n",
      "71/71 [==============================] - 1s 11ms/step - loss: 0.4355 - accuracy: 0.8351 - val_loss: 0.7460 - val_accuracy: 0.6840\n",
      "Epoch 74/100\n",
      "71/71 [==============================] - 1s 11ms/step - loss: 0.4330 - accuracy: 0.8338 - val_loss: 0.8154 - val_accuracy: 0.6427\n",
      "Epoch 75/100\n",
      "71/71 [==============================] - 1s 11ms/step - loss: 0.4285 - accuracy: 0.8338 - val_loss: 0.7704 - val_accuracy: 0.6640\n",
      "Epoch 76/100\n",
      "71/71 [==============================] - 1s 10ms/step - loss: 0.4241 - accuracy: 0.8298 - val_loss: 0.8815 - val_accuracy: 0.6213\n",
      "Epoch 77/100\n",
      "71/71 [==============================] - 1s 11ms/step - loss: 0.4217 - accuracy: 0.8360 - val_loss: 0.7741 - val_accuracy: 0.6640\n",
      "Epoch 78/100\n",
      "71/71 [==============================] - 1s 11ms/step - loss: 0.4185 - accuracy: 0.8391 - val_loss: 0.7573 - val_accuracy: 0.6787\n",
      "Epoch 79/100\n",
      "71/71 [==============================] - 1s 11ms/step - loss: 0.4162 - accuracy: 0.8356 - val_loss: 0.7643 - val_accuracy: 0.6667\n",
      "Epoch 80/100\n",
      "71/71 [==============================] - 1s 10ms/step - loss: 0.4125 - accuracy: 0.8467 - val_loss: 1.0424 - val_accuracy: 0.5707\n",
      "Epoch 81/100\n",
      "71/71 [==============================] - 1s 11ms/step - loss: 0.4089 - accuracy: 0.8400 - val_loss: 0.7344 - val_accuracy: 0.6933\n",
      "Epoch 82/100\n",
      "71/71 [==============================] - 1s 10ms/step - loss: 0.4053 - accuracy: 0.8444 - val_loss: 0.7641 - val_accuracy: 0.6680\n",
      "Epoch 83/100\n",
      "71/71 [==============================] - 1s 11ms/step - loss: 0.4014 - accuracy: 0.8516 - val_loss: 0.7521 - val_accuracy: 0.6973\n",
      "Epoch 84/100\n",
      "71/71 [==============================] - 1s 11ms/step - loss: 0.3984 - accuracy: 0.8533 - val_loss: 0.7495 - val_accuracy: 0.6920\n",
      "Epoch 85/100\n",
      "71/71 [==============================] - 1s 11ms/step - loss: 0.3970 - accuracy: 0.8391 - val_loss: 0.7688 - val_accuracy: 0.6707\n",
      "Epoch 86/100\n",
      "71/71 [==============================] - 1s 10ms/step - loss: 0.3898 - accuracy: 0.8556 - val_loss: 0.7499 - val_accuracy: 0.6893\n",
      "Epoch 87/100\n",
      "71/71 [==============================] - 1s 11ms/step - loss: 0.3893 - accuracy: 0.8529 - val_loss: 0.8069 - val_accuracy: 0.6613\n",
      "Epoch 88/100\n",
      "71/71 [==============================] - 1s 10ms/step - loss: 0.3928 - accuracy: 0.8480 - val_loss: 0.7447 - val_accuracy: 0.6907\n",
      "Epoch 89/100\n",
      "71/71 [==============================] - 1s 11ms/step - loss: 0.3824 - accuracy: 0.8542 - val_loss: 0.7816 - val_accuracy: 0.6720\n",
      "Epoch 90/100\n",
      "71/71 [==============================] - 1s 14ms/step - loss: 0.3814 - accuracy: 0.8529 - val_loss: 0.7453 - val_accuracy: 0.6920\n",
      "Epoch 91/100\n",
      "71/71 [==============================] - 1s 11ms/step - loss: 0.3780 - accuracy: 0.8609 - val_loss: 0.8790 - val_accuracy: 0.6253\n",
      "Epoch 92/100\n",
      "71/71 [==============================] - 1s 11ms/step - loss: 0.3764 - accuracy: 0.8578 - val_loss: 0.7820 - val_accuracy: 0.6760\n",
      "Epoch 93/100\n",
      "71/71 [==============================] - 1s 11ms/step - loss: 0.3694 - accuracy: 0.8622 - val_loss: 0.7930 - val_accuracy: 0.6747\n",
      "Epoch 94/100\n",
      "71/71 [==============================] - 1s 10ms/step - loss: 0.3669 - accuracy: 0.8653 - val_loss: 0.7739 - val_accuracy: 0.6813\n",
      "Epoch 95/100\n",
      "71/71 [==============================] - 1s 11ms/step - loss: 0.3649 - accuracy: 0.8640 - val_loss: 0.8299 - val_accuracy: 0.6520\n",
      "Epoch 96/100\n",
      "71/71 [==============================] - 1s 11ms/step - loss: 0.3611 - accuracy: 0.8676 - val_loss: 0.7564 - val_accuracy: 0.6880\n",
      "Epoch 97/100\n",
      "71/71 [==============================] - 1s 11ms/step - loss: 0.3577 - accuracy: 0.8676 - val_loss: 0.7748 - val_accuracy: 0.6813\n",
      "Epoch 98/100\n",
      "71/71 [==============================] - 1s 11ms/step - loss: 0.3546 - accuracy: 0.8658 - val_loss: 0.7895 - val_accuracy: 0.6693\n",
      "Epoch 99/100\n",
      "71/71 [==============================] - 1s 11ms/step - loss: 0.3453 - accuracy: 0.8804 - val_loss: 0.7835 - val_accuracy: 0.6720\n",
      "Epoch 100/100\n",
      "71/71 [==============================] - 1s 10ms/step - loss: 0.3507 - accuracy: 0.8698 - val_loss: 0.7698 - val_accuracy: 0.6840\n"
     ]
    }
   ],
   "source": [
    "print(\"INFO compiling model\")\n",
    "opt = SGD(lr=0.005)\n",
    "model = ShallowNet.build(width=32, height=32, depth=3, classes=3)\n",
    "model.compile(loss=\"categorical_crossentropy\", optimizer=opt, metrics=[\"accuracy\"])\n",
    "\n",
    "print(\"[info] training network\")\n",
    "H = model.fit(trainX, trainY, validation_data=(testX, testY),\n",
    "             batch_size=32, epochs=100, verbose=1)"
   ]
  },
  {
   "cell_type": "code",
   "execution_count": 23,
   "metadata": {},
   "outputs": [
    {
     "name": "stdout",
     "output_type": "stream",
     "text": [
      "INFO serializing network\n"
     ]
    }
   ],
   "source": [
    "print(\"INFO serializing network\")\n",
    "model.save(args[\"model_path\"]) #in HDF5 format"
   ]
  },
  {
   "cell_type": "code",
   "execution_count": 25,
   "metadata": {},
   "outputs": [
    {
     "name": "stdout",
     "output_type": "stream",
     "text": [
      "INFO evaluating network\n",
      "              precision    recall  f1-score   support\n",
      "\n",
      "         cat       0.70      0.48      0.57       249\n",
      "         dog       0.60      0.76      0.67       262\n",
      "       panda       0.80      0.82      0.81       239\n",
      "\n",
      "    accuracy                           0.68       750\n",
      "   macro avg       0.70      0.68      0.68       750\n",
      "weighted avg       0.69      0.68      0.68       750\n",
      "\n"
     ]
    }
   ],
   "source": [
    "print(\"INFO evaluating network\")\n",
    "predictions = model.predict(testX, batch_size=32)\n",
    "print(classification_report(testY.argmax(axis=1),\n",
    "                           predictions.argmax(axis=1),\n",
    "                           target_names=[\"cat\",\"dog\",\"panda\"]))"
   ]
  },
  {
   "cell_type": "code",
   "execution_count": 26,
   "metadata": {},
   "outputs": [
    {
     "data": {
      "image/png": "[encoded data removed]",
      "text/plain": [
       "<Figure size 432x288 with 1 Axes>"
      ]
     },
     "metadata": {},
     "output_type": "display_data"
    }
   ],
   "source": [
    "plt.style.use(\"ggplot\")\n",
    "plt.figure()\n",
    "plt.plot(np.arange(0, 100), H.history[\"loss\"], label=\"train_loss\")\n",
    "plt.plot(np.arange(0, 100), H.history[\"val_loss\"], label=\"val_loss\")\n",
    "plt.plot(np.arange(0, 100), H.history[\"accuracy\"], label=\"train_acc\")\n",
    "plt.plot(np.arange(0, 100), H.history[\"val_accuracy\"], label=\"val_acc\")\n",
    "plt.title(\"Training Loss and Accuracy\")\n",
    "plt.xlabel(\"Epoch #\")\n",
    "plt.ylabel(\"Loss/Accuracy\")\n",
    "plt.legend()\n",
    "plt.show()"
   ]
  },
  {
   "cell_type": "markdown",
   "metadata": {},
   "source": [
    "## Loading a pretrained model"
   ]
  },
  {
   "cell_type": "code",
   "execution_count": 27,
   "metadata": {},
   "outputs": [
    {
     "name": "stdout",
     "output_type": "stream",
     "text": [
      "INFO sampling images\n"
     ]
    }
   ],
   "source": [
    "classLabels = [\"cat\",\"dog\",\"panda\"]\n",
    "print(\"INFO sampling images\")\n",
    "imagePaths = np.array(list(paths.list_images(args[\"dataset\"])))\n",
    "idxs = np.random.randint(0, len(imagePaths), size=(10,))\n",
    "imagePaths = imagePaths[idxs]"
   ]
  },
  {
   "cell_type": "code",
   "execution_count": 28,
   "metadata": {},
   "outputs": [],
   "source": [
    "sp = SimplePreprocessor(32,32)\n",
    "iap = ImageToArrayPreprocessor()\n",
    "sdl = SimpleDatasetLoader(preprocessors=[sp, iap])\n",
    "(data, labels) = sdl.load(imagePaths)\n",
    "data = data.astype(\"float\")/255.0"
   ]
  },
  {
   "cell_type": "code",
   "execution_count": 29,
   "metadata": {},
   "outputs": [
    {
     "name": "stdout",
     "output_type": "stream",
     "text": [
      "INFO loading pretrained network\n"
     ]
    }
   ],
   "source": [
    "print(\"INFO loading pretrained network\")\n",
    "model = load_model(args[\"model_path\"])"
   ]
  },
  {
   "cell_type": "code",
   "execution_count": 30,
   "metadata": {},
   "outputs": [
    {
     "name": "stdout",
     "output_type": "stream",
     "text": [
      "INFO predicting\n"
     ]
    }
   ],
   "source": [
    "print(\"INFO predicting\")\n",
    "preds = model.predict(data, batch_size=32).argmax(axis=1)"
   ]
  },
  {
   "cell_type": "code",
   "execution_count": 35,
   "metadata": {},
   "outputs": [
    {
     "ename": "IndexError",
     "evalue": "index 10 is out of bounds for axis 0 with size 10",
     "output_type": "error",
     "traceback": [
      "\u001b[0;31m---------------------------------------------------------------------------\u001b[0m",
      "\u001b[0;31mIndexError\u001b[0m                                Traceback (most recent call last)",
      "\u001b[0;32m<ipython-input-35-e7c704590924>\u001b[0m in \u001b[0;36m<module>\u001b[0;34m\u001b[0m\n\u001b[1;32m      1\u001b[0m \u001b[0;32mfor\u001b[0m \u001b[0;34m(\u001b[0m\u001b[0mi\u001b[0m\u001b[0;34m,\u001b[0m \u001b[0mimagePath\u001b[0m\u001b[0;34m)\u001b[0m \u001b[0;32min\u001b[0m \u001b[0menumerate\u001b[0m\u001b[0;34m(\u001b[0m\u001b[0mimagePaths\u001b[0m\u001b[0;34m)\u001b[0m\u001b[0;34m:\u001b[0m\u001b[0;34m\u001b[0m\u001b[0;34m\u001b[0m\u001b[0m\n\u001b[1;32m      2\u001b[0m     \u001b[0mimage\u001b[0m \u001b[0;34m=\u001b[0m \u001b[0mcv2\u001b[0m\u001b[0;34m.\u001b[0m\u001b[0mimread\u001b[0m\u001b[0;34m(\u001b[0m\u001b[0mimagePath\u001b[0m\u001b[0;34m)\u001b[0m\u001b[0;34m\u001b[0m\u001b[0;34m\u001b[0m\u001b[0m\n\u001b[0;32m----> 3\u001b[0;31m     cv2.putText(image, \"Label:{}\".format(classLabels[preds[i]]), \n\u001b[0m\u001b[1;32m      4\u001b[0m                (10,30), cv2.FONT_HERSHEY_SIMPLEX, 0.7, (0, 255, 0), 2)\n\u001b[1;32m      5\u001b[0m     \u001b[0mcv2\u001b[0m\u001b[0;34m.\u001b[0m\u001b[0mimshow\u001b[0m\u001b[0;34m(\u001b[0m\u001b[0;34m\"Image\"\u001b[0m\u001b[0;34m,\u001b[0m \u001b[0mimage\u001b[0m\u001b[0;34m)\u001b[0m\u001b[0;34m\u001b[0m\u001b[0;34m\u001b[0m\u001b[0m\n",
      "\u001b[0;31mIndexError\u001b[0m: index 10 is out of bounds for axis 0 with size 10"
     ]
    }
   ],
   "source": [
    "for (i, imagePath) in enumerate(imagePaths):\n",
    "    image = cv2.imread(imagePath)\n",
    "    cv2.putText(image, \"Label:{}\".format(classLabels[preds[i]]), \n",
    "               (10,30), cv2.FONT_HERSHEY_SIMPLEX, 0.7, (0, 255, 0), 2)\n",
    "    cv2.imshow(\"Image\", image)\n",
    "    cv2.waitKey(0)"
   ]
  },
  {
   "cell_type": "code",
   "execution_count": null,
   "metadata": {},
   "outputs": [],
   "source": []
  }
 ],
 "metadata": {
  "kernelspec": {
   "display_name": "Python 3",
   "language": "python",
   "name": "python3"
  },
  "language_info": {
   "codemirror_mode": {
    "name": "ipython",
    "version": 3
   },
   "file_extension": ".py",
   "mimetype": "text/x-python",
   "name": "python",
   "nbconvert_exporter": "python",
   "pygments_lexer": "ipython3",
   "version": "3.8.2"
  }
 },
 "nbformat": 4,
 "nbformat_minor": 4
}
