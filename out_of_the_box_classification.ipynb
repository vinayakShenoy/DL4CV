{
  "nbformat": 4,
  "nbformat_minor": 0,
  "metadata": {
    "colab": {
      "name": "out_of_the_box_classification.ipynb",
      "provenance": [],
      "collapsed_sections": [],
      "authorship_tag": "ABX9TyNTzkhjxV3QzoCCv2pZg7mj",
      "include_colab_link": true
    },
    "kernelspec": {
      "name": "python3",
      "display_name": "Python 3"
    }
  },
  "cells": [
    {
      "cell_type": "markdown",
      "metadata": {
        "id": "view-in-github",
        "colab_type": "text"
      },
      "source": [
        "<a href=\"https://colab.research.google.com/github/vinayakShenoy/DL4CV/blob/master/Code/out_of_the_box_classification.ipynb\" target=\"_parent\"><img src=\"https://colab.research.google.com/assets/colab-badge.svg\" alt=\"Open In Colab\"/></a>"
      ]
    },
    {
      "cell_type": "markdown",
      "metadata": {
        "id": "_ZZDlKQEv017",
        "colab_type": "text"
      },
      "source": [
        "## Classifying images with pretrained ImageNet CNNs\n",
        "- Keras Library ships 5 CNNs that have been pre-trained on ImageNet dataset\n",
        "  - VGG16, VGG19\n",
        "  - ResNet50\n",
        "  - InceptionV3\n",
        "  - Xception\n",
        "\n"
      ]
    },
    {
      "cell_type": "code",
      "metadata": {
        "id": "yoVpl5uVvhQE",
        "colab_type": "code",
        "colab": {}
      },
      "source": [
        "from tensorflow.keras.applications import ResNet50, InceptionV3, Xception, VGG16, VGG19, imagenet_utils\n",
        "from tensorflow.keras.applications.inception_v3 import preprocess_input\n",
        "from tensorflow.keras.preprocessing.image import img_to_array, load_img\n",
        "import numpy as np\n",
        "import cv2"
      ],
      "execution_count": null,
      "outputs": []
    },
    {
      "cell_type": "code",
      "metadata": {
        "id": "p_kmIHIcwxH2",
        "colab_type": "code",
        "colab": {}
      },
      "source": [
        "args = {\n",
        "    \"image\":,\n",
        "    \"model\":\n",
        "}"
      ],
      "execution_count": null,
      "outputs": []
    },
    {
      "cell_type": "code",
      "metadata": {
        "id": "zVKWUBz_w1Vg",
        "colab_type": "code",
        "colab": {}
      },
      "source": [
        "MODELS = {\n",
        "    \"vgg16\": VGG16,\n",
        "    \"vgg19\": VGG19,\n",
        "    \"inception\": Xception,\n",
        "    \"resnet\":ResNet50\n",
        "}"
      ],
      "execution_count": null,
      "outputs": []
    },
    {
      "cell_type": "markdown",
      "metadata": {
        "id": "ghFP79y-xHSP",
        "colab_type": "text"
      },
      "source": [
        "- We know a CNN takes an image as input and then returns a set of probabilities corresponding to the class labels as output.\n",
        "- Typical input image size to CNN trained on imagenet are $224 \\times 224$, $227 \\times 227$, $256 \\times 256$ and $299 \\times 299$.\n",
        "- Different model use different input image size."
      ]
    },
    {
      "cell_type": "code",
      "metadata": {
        "id": "oTJf32PyxlNx",
        "colab_type": "code",
        "colab": {}
      },
      "source": [
        "#init the image shape along with preprocessing function\n",
        "inputShape = (224, 224)\n",
        "preprocess = imagenet_utils.preprocess_input\n",
        "\n",
        "if args[\"model\"] in (\"inception\",\"xception\"):\n",
        "  inputShape = (299, 299)\n",
        "  preprocess= preprocess_input"
      ],
      "execution_count": null,
      "outputs": []
    },
    {
      "cell_type": "code",
      "metadata": {
        "id": "V9FGofKkyIsH",
        "colab_type": "code",
        "colab": {}
      },
      "source": [
        "print(\"[INFO] loading {}...\".format(args[\"model\"]))\n",
        "Network = MODELS[args[\"model\"]]\n",
        "model = Network(weights=\"imagenet\")"
      ],
      "execution_count": null,
      "outputs": []
    },
    {
      "cell_type": "code",
      "metadata": {
        "id": "dZsFj6cryWdV",
        "colab_type": "code",
        "colab": {}
      },
      "source": [
        "print(\"[INFO] loading and pre-processing image...\")\n",
        "image = load_img(args[\"image\"], target_size=inputShape)\n",
        "image = img_to_array(image)\n",
        "\n",
        "# out input image is numpy array of shape (h, w, 3), \n",
        "# but we need to expand it to (1, h, w, 3)\n",
        "# so that it can be passed to the network\n",
        "image = np.expand_dims(iamge, axis=0)\n",
        "image = preprocess(image)"
      ],
      "execution_count": null,
      "outputs": []
    },
    {
      "cell_type": "code",
      "metadata": {
        "id": "UAlVwhKky6OO",
        "colab_type": "code",
        "colab": {}
      },
      "source": [
        "print(\"INFO classifying image with '{}'..\".format(args[\"model\"]))\n",
        "preds = model.predict(image)\n",
        "P = imagenet_utils.decode_predictions(preds)\n",
        "\n",
        "for (i, (imagenetID, label, prob)) in enumerate(P[0]):\n",
        "  print(\"{}. {}: {:.2f}%\".format(i+1, label, prob*100))"
      ],
      "execution_count": null,
      "outputs": []
    },
    {
      "cell_type": "code",
      "metadata": {
        "id": "jNSSDJVizVfI",
        "colab_type": "code",
        "colab": {}
      },
      "source": [
        ""
      ],
      "execution_count": null,
      "outputs": []
    }
  ]
}