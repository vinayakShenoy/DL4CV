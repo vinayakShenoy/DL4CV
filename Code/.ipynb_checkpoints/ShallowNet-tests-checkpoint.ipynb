{
 "cells": [
  {
   "cell_type": "code",
   "execution_count": 7,
   "metadata": {},
   "outputs": [
    {
     "name": "stdout",
     "output_type": "stream",
     "text": [
      "importing Jupyter notebook from ShallowNet.ipynb\n"
     ]
    }
   ],
   "source": [
    "from sklearn.preprocessing import LabelBinarizer\n",
    "from sklearn.model_selection import train_test_split\n",
    "from sklearn.metrics import classification_report\n",
    "from tensorflow.keras.optimizers import SGD\n",
    "from imutils import paths\n",
    "import matplotlib.pyplot as plt\n",
    "import numpy as np\n",
    "import import_ipynb\n",
    "from utils import ImageToArrayPreprocessor, SimplePreprocessor, SimpleDatasetLoader\n",
    "from ShallowNet import ShallowNet"
   ]
  },
  {
   "cell_type": "code",
   "execution_count": 8,
   "metadata": {},
   "outputs": [
    {
     "name": "stdout",
     "output_type": "stream",
     "text": [
      "[INFO] loading images\n"
     ]
    }
   ],
   "source": [
    "args = {\n",
    "    \"dataset\":\"/home/vinayak/Desktop/PyImageSearch/DL4CV/dogs-v-cats/animals/animals/\"\n",
    "}\n",
    "print(\"[INFO] loading images\")\n",
    "imagePaths = list(paths.list_images(args[\"dataset\"]))"
   ]
  },
  {
   "cell_type": "code",
   "execution_count": 9,
   "metadata": {},
   "outputs": [
    {
     "name": "stdout",
     "output_type": "stream",
     "text": [
      "[INFO] processed 500/3000\n",
      "[INFO] processed 1000/3000\n",
      "[INFO] processed 1500/3000\n",
      "[INFO] processed 2000/3000\n",
      "[INFO] processed 2500/3000\n",
      "[INFO] processed 3000/3000\n"
     ]
    }
   ],
   "source": [
    "sp = SimplePreprocessor(32,32)\n",
    "iap = ImageToArrayPreprocessor()\n",
    "sdl = SimpleDatasetLoader(preprocessors=[sp, iap])\n",
    "(data, labels) = sdl.load(imagePaths, verbose=500)\n",
    "data = data.astype(\"float\")/255.0"
   ]
  },
  {
   "cell_type": "code",
   "execution_count": 10,
   "metadata": {},
   "outputs": [],
   "source": [
    "(trainX, testX, trainY, testY) = train_test_split(data, labels, \n",
    "                                                  test_size=0.25, random_state=42)\n",
    "trainY = LabelBinarizer().fit_transform(trainY)\n",
    "testY = LabelBinarizer().fit_transform(testY)"
   ]
  },
  {
   "cell_type": "code",
   "execution_count": 11,
   "metadata": {},
   "outputs": [
    {
     "name": "stdout",
     "output_type": "stream",
     "text": [
      "[INFO] compiling model\n",
      "[INFO] training network\n",
      "Epoch 1/100\n",
      "71/71 [==============================] - 1s 12ms/step - loss: 1.0174 - accuracy: 0.4671 - val_loss: 0.9992 - val_accuracy: 0.5053\n",
      "Epoch 2/100\n",
      "71/71 [==============================] - 1s 10ms/step - loss: 0.9091 - accuracy: 0.5516 - val_loss: 1.0236 - val_accuracy: 0.5253\n",
      "Epoch 3/100\n",
      "71/71 [==============================] - 1s 10ms/step - loss: 0.8791 - accuracy: 0.5618 - val_loss: 0.9123 - val_accuracy: 0.5387\n",
      "Epoch 4/100\n",
      "71/71 [==============================] - 1s 10ms/step - loss: 0.8523 - accuracy: 0.5884 - val_loss: 0.8872 - val_accuracy: 0.5480\n",
      "Epoch 5/100\n",
      "71/71 [==============================] - 1s 10ms/step - loss: 0.8383 - accuracy: 0.5871 - val_loss: 0.9153 - val_accuracy: 0.5347\n",
      "Epoch 6/100\n",
      "71/71 [==============================] - 1s 10ms/step - loss: 0.8159 - accuracy: 0.5916 - val_loss: 0.8642 - val_accuracy: 0.5667\n",
      "Epoch 7/100\n",
      "71/71 [==============================] - 1s 11ms/step - loss: 0.8100 - accuracy: 0.6062 - val_loss: 0.9205 - val_accuracy: 0.5160\n",
      "Epoch 8/100\n",
      "71/71 [==============================] - 1s 10ms/step - loss: 0.7967 - accuracy: 0.6169 - val_loss: 0.8481 - val_accuracy: 0.5960\n",
      "Epoch 9/100\n",
      "71/71 [==============================] - 1s 11ms/step - loss: 0.7918 - accuracy: 0.6204 - val_loss: 0.9472 - val_accuracy: 0.5160\n",
      "Epoch 10/100\n",
      "71/71 [==============================] - 1s 10ms/step - loss: 0.7807 - accuracy: 0.6307 - val_loss: 0.9365 - val_accuracy: 0.5293\n",
      "Epoch 11/100\n",
      "71/71 [==============================] - 1s 11ms/step - loss: 0.7688 - accuracy: 0.6369 - val_loss: 0.9358 - val_accuracy: 0.5427\n",
      "Epoch 12/100\n",
      "71/71 [==============================] - 1s 10ms/step - loss: 0.7584 - accuracy: 0.6440 - val_loss: 0.8741 - val_accuracy: 0.5533\n",
      "Epoch 13/100\n",
      "71/71 [==============================] - 1s 9ms/step - loss: 0.7590 - accuracy: 0.6453 - val_loss: 0.8342 - val_accuracy: 0.5920\n",
      "Epoch 14/100\n",
      "71/71 [==============================] - 1s 12ms/step - loss: 0.7420 - accuracy: 0.6667 - val_loss: 0.8695 - val_accuracy: 0.5427\n",
      "Epoch 15/100\n",
      "71/71 [==============================] - 1s 12ms/step - loss: 0.7408 - accuracy: 0.6564 - val_loss: 0.9395 - val_accuracy: 0.5427\n",
      "Epoch 16/100\n",
      "71/71 [==============================] - 1s 12ms/step - loss: 0.7354 - accuracy: 0.6631 - val_loss: 0.8252 - val_accuracy: 0.6160\n",
      "Epoch 17/100\n",
      "71/71 [==============================] - 1s 12ms/step - loss: 0.7208 - accuracy: 0.6716 - val_loss: 0.8914 - val_accuracy: 0.5973\n",
      "Epoch 18/100\n",
      "71/71 [==============================] - 1s 13ms/step - loss: 0.7194 - accuracy: 0.6564 - val_loss: 0.8948 - val_accuracy: 0.5440\n",
      "Epoch 19/100\n",
      "71/71 [==============================] - 1s 13ms/step - loss: 0.7137 - accuracy: 0.6680 - val_loss: 0.8204 - val_accuracy: 0.5893\n",
      "Epoch 20/100\n",
      "71/71 [==============================] - 1s 14ms/step - loss: 0.7011 - accuracy: 0.6809 - val_loss: 0.8967 - val_accuracy: 0.5400\n",
      "Epoch 21/100\n",
      "71/71 [==============================] - 1s 14ms/step - loss: 0.6992 - accuracy: 0.6898 - val_loss: 0.8380 - val_accuracy: 0.5947\n",
      "Epoch 22/100\n",
      "71/71 [==============================] - 1s 12ms/step - loss: 0.6940 - accuracy: 0.6862 - val_loss: 0.8271 - val_accuracy: 0.6053\n",
      "Epoch 23/100\n",
      "71/71 [==============================] - 1s 13ms/step - loss: 0.6879 - accuracy: 0.6960 - val_loss: 0.8373 - val_accuracy: 0.5987\n",
      "Epoch 24/100\n",
      "71/71 [==============================] - 1s 13ms/step - loss: 0.6832 - accuracy: 0.6907 - val_loss: 0.8532 - val_accuracy: 0.6053\n",
      "Epoch 25/100\n",
      "71/71 [==============================] - 1s 12ms/step - loss: 0.6694 - accuracy: 0.7049 - val_loss: 0.8117 - val_accuracy: 0.6120\n",
      "Epoch 26/100\n",
      "71/71 [==============================] - 1s 11ms/step - loss: 0.6668 - accuracy: 0.7120 - val_loss: 0.8378 - val_accuracy: 0.6133\n",
      "Epoch 27/100\n",
      "71/71 [==============================] - 1s 9ms/step - loss: 0.6622 - accuracy: 0.7076 - val_loss: 0.8108 - val_accuracy: 0.6187\n",
      "Epoch 28/100\n",
      "71/71 [==============================] - 1s 12ms/step - loss: 0.6501 - accuracy: 0.7076 - val_loss: 0.8553 - val_accuracy: 0.5533\n",
      "Epoch 29/100\n",
      "71/71 [==============================] - 1s 11ms/step - loss: 0.6485 - accuracy: 0.7164 - val_loss: 0.8422 - val_accuracy: 0.6093\n",
      "Epoch 30/100\n",
      "71/71 [==============================] - 1s 11ms/step - loss: 0.6433 - accuracy: 0.7107 - val_loss: 0.7921 - val_accuracy: 0.6293\n",
      "Epoch 31/100\n",
      "71/71 [==============================] - 1s 11ms/step - loss: 0.6337 - accuracy: 0.7258 - val_loss: 0.8427 - val_accuracy: 0.5853\n",
      "Epoch 32/100\n",
      "71/71 [==============================] - 1s 10ms/step - loss: 0.6281 - accuracy: 0.7293 - val_loss: 0.9004 - val_accuracy: 0.5867\n",
      "Epoch 33/100\n",
      "71/71 [==============================] - 1s 11ms/step - loss: 0.6202 - accuracy: 0.7267 - val_loss: 0.8098 - val_accuracy: 0.6280\n",
      "Epoch 34/100\n",
      "71/71 [==============================] - 1s 11ms/step - loss: 0.6187 - accuracy: 0.7253 - val_loss: 0.8461 - val_accuracy: 0.5973\n",
      "Epoch 35/100\n",
      "71/71 [==============================] - 1s 12ms/step - loss: 0.6035 - accuracy: 0.7360 - val_loss: 0.7922 - val_accuracy: 0.6320\n",
      "Epoch 36/100\n",
      "71/71 [==============================] - 1s 10ms/step - loss: 0.6045 - accuracy: 0.7333 - val_loss: 0.9283 - val_accuracy: 0.5427\n",
      "Epoch 37/100\n",
      "71/71 [==============================] - 1s 12ms/step - loss: 0.5940 - accuracy: 0.7369 - val_loss: 0.7744 - val_accuracy: 0.6547\n",
      "Epoch 38/100\n",
      "71/71 [==============================] - 1s 11ms/step - loss: 0.5910 - accuracy: 0.7436 - val_loss: 0.7713 - val_accuracy: 0.6533\n",
      "Epoch 39/100\n",
      "71/71 [==============================] - 1s 11ms/step - loss: 0.5810 - accuracy: 0.7493 - val_loss: 0.9500 - val_accuracy: 0.5453\n",
      "Epoch 40/100\n",
      "71/71 [==============================] - 1s 11ms/step - loss: 0.5858 - accuracy: 0.7404 - val_loss: 0.8081 - val_accuracy: 0.6067\n",
      "Epoch 41/100\n",
      "71/71 [==============================] - 1s 12ms/step - loss: 0.5761 - accuracy: 0.7498 - val_loss: 0.8008 - val_accuracy: 0.6307\n",
      "Epoch 42/100\n",
      "71/71 [==============================] - 1s 11ms/step - loss: 0.5704 - accuracy: 0.7578 - val_loss: 0.7848 - val_accuracy: 0.6453\n",
      "Epoch 43/100\n",
      "71/71 [==============================] - 1s 12ms/step - loss: 0.5596 - accuracy: 0.7596 - val_loss: 0.7672 - val_accuracy: 0.6533\n",
      "Epoch 44/100\n",
      "71/71 [==============================] - 1s 11ms/step - loss: 0.5580 - accuracy: 0.7671 - val_loss: 0.8384 - val_accuracy: 0.6200\n",
      "Epoch 45/100\n",
      "71/71 [==============================] - 1s 12ms/step - loss: 0.5517 - accuracy: 0.7591 - val_loss: 0.8329 - val_accuracy: 0.6160\n",
      "Epoch 46/100\n",
      "71/71 [==============================] - 1s 11ms/step - loss: 0.5408 - accuracy: 0.7724 - val_loss: 0.8476 - val_accuracy: 0.6093\n",
      "Epoch 47/100\n",
      "71/71 [==============================] - 1s 11ms/step - loss: 0.5451 - accuracy: 0.7689 - val_loss: 0.7862 - val_accuracy: 0.6493\n",
      "Epoch 48/100\n",
      "71/71 [==============================] - 1s 15ms/step - loss: 0.5349 - accuracy: 0.7876 - val_loss: 0.8906 - val_accuracy: 0.6187\n",
      "Epoch 49/100\n",
      "71/71 [==============================] - 1s 13ms/step - loss: 0.5324 - accuracy: 0.7773 - val_loss: 0.7898 - val_accuracy: 0.6413\n",
      "Epoch 50/100\n",
      "71/71 [==============================] - 1s 11ms/step - loss: 0.5196 - accuracy: 0.7871 - val_loss: 0.8584 - val_accuracy: 0.6147\n",
      "Epoch 51/100\n",
      "71/71 [==============================] - 1s 11ms/step - loss: 0.5175 - accuracy: 0.7876 - val_loss: 0.7556 - val_accuracy: 0.6680\n",
      "Epoch 52/100\n",
      "71/71 [==============================] - 1s 12ms/step - loss: 0.5150 - accuracy: 0.7809 - val_loss: 0.7591 - val_accuracy: 0.6667\n",
      "Epoch 53/100\n",
      "71/71 [==============================] - 1s 10ms/step - loss: 0.5149 - accuracy: 0.7898 - val_loss: 0.9148 - val_accuracy: 0.5933\n",
      "Epoch 54/100\n",
      "71/71 [==============================] - 1s 10ms/step - loss: 0.5059 - accuracy: 0.7951 - val_loss: 0.7876 - val_accuracy: 0.6627\n",
      "Epoch 55/100\n",
      "71/71 [==============================] - 1s 10ms/step - loss: 0.4983 - accuracy: 0.7858 - val_loss: 0.7543 - val_accuracy: 0.6853\n",
      "Epoch 56/100\n",
      "71/71 [==============================] - 1s 10ms/step - loss: 0.4976 - accuracy: 0.7938 - val_loss: 0.7533 - val_accuracy: 0.6640\n",
      "Epoch 57/100\n",
      "71/71 [==============================] - 1s 10ms/step - loss: 0.4954 - accuracy: 0.8018 - val_loss: 0.7688 - val_accuracy: 0.6800\n",
      "Epoch 58/100\n"
     ]
    },
    {
     "name": "stdout",
     "output_type": "stream",
     "text": [
      "71/71 [==============================] - 1s 13ms/step - loss: 0.4876 - accuracy: 0.8067 - val_loss: 0.7780 - val_accuracy: 0.6760\n",
      "Epoch 59/100\n",
      "71/71 [==============================] - 1s 10ms/step - loss: 0.4829 - accuracy: 0.8049 - val_loss: 0.8143 - val_accuracy: 0.6293\n",
      "Epoch 60/100\n",
      "71/71 [==============================] - 1s 10ms/step - loss: 0.4803 - accuracy: 0.8058 - val_loss: 0.7491 - val_accuracy: 0.6787\n",
      "Epoch 61/100\n",
      "71/71 [==============================] - 1s 10ms/step - loss: 0.4705 - accuracy: 0.8169 - val_loss: 0.7695 - val_accuracy: 0.6547\n",
      "Epoch 62/100\n",
      "71/71 [==============================] - 1s 10ms/step - loss: 0.4694 - accuracy: 0.8080 - val_loss: 0.7869 - val_accuracy: 0.6507\n",
      "Epoch 63/100\n",
      "71/71 [==============================] - 1s 10ms/step - loss: 0.4685 - accuracy: 0.8116 - val_loss: 0.8923 - val_accuracy: 0.5867\n",
      "Epoch 64/100\n",
      "71/71 [==============================] - 1s 10ms/step - loss: 0.4638 - accuracy: 0.8164 - val_loss: 0.7509 - val_accuracy: 0.6773\n",
      "Epoch 65/100\n",
      "71/71 [==============================] - 1s 10ms/step - loss: 0.4559 - accuracy: 0.8209 - val_loss: 0.7816 - val_accuracy: 0.6693\n",
      "Epoch 66/100\n",
      "71/71 [==============================] - 1s 10ms/step - loss: 0.4525 - accuracy: 0.8182 - val_loss: 0.7809 - val_accuracy: 0.6880\n",
      "Epoch 67/100\n",
      "71/71 [==============================] - 1s 9ms/step - loss: 0.4491 - accuracy: 0.8151 - val_loss: 0.9238 - val_accuracy: 0.5880\n",
      "Epoch 68/100\n",
      "71/71 [==============================] - 1s 10ms/step - loss: 0.4466 - accuracy: 0.8267 - val_loss: 0.7867 - val_accuracy: 0.6320\n",
      "Epoch 69/100\n",
      "71/71 [==============================] - 1s 9ms/step - loss: 0.4443 - accuracy: 0.8218 - val_loss: 0.7513 - val_accuracy: 0.6840\n",
      "Epoch 70/100\n",
      "71/71 [==============================] - 1s 10ms/step - loss: 0.4355 - accuracy: 0.8320 - val_loss: 0.7993 - val_accuracy: 0.6347\n",
      "Epoch 71/100\n",
      "71/71 [==============================] - 1s 13ms/step - loss: 0.4339 - accuracy: 0.8253 - val_loss: 0.7502 - val_accuracy: 0.6787\n",
      "Epoch 72/100\n",
      "71/71 [==============================] - 1s 12ms/step - loss: 0.4277 - accuracy: 0.8316 - val_loss: 0.7651 - val_accuracy: 0.6787\n",
      "Epoch 73/100\n",
      "71/71 [==============================] - 1s 10ms/step - loss: 0.4232 - accuracy: 0.8324 - val_loss: 0.7380 - val_accuracy: 0.6973\n",
      "Epoch 74/100\n",
      "71/71 [==============================] - 1s 10ms/step - loss: 0.4243 - accuracy: 0.8364 - val_loss: 0.7806 - val_accuracy: 0.6693\n",
      "Epoch 75/100\n",
      "71/71 [==============================] - 1s 11ms/step - loss: 0.4265 - accuracy: 0.8364 - val_loss: 0.7697 - val_accuracy: 0.6787\n",
      "Epoch 76/100\n",
      "71/71 [==============================] - 1s 10ms/step - loss: 0.4112 - accuracy: 0.8413 - val_loss: 0.7400 - val_accuracy: 0.6773\n",
      "Epoch 77/100\n",
      "71/71 [==============================] - 1s 11ms/step - loss: 0.4090 - accuracy: 0.8404 - val_loss: 0.8142 - val_accuracy: 0.6507\n",
      "Epoch 78/100\n",
      "71/71 [==============================] - 1s 11ms/step - loss: 0.4045 - accuracy: 0.8444 - val_loss: 0.9789 - val_accuracy: 0.5973\n",
      "Epoch 79/100\n",
      "71/71 [==============================] - 1s 10ms/step - loss: 0.4120 - accuracy: 0.8396 - val_loss: 0.7628 - val_accuracy: 0.6827\n",
      "Epoch 80/100\n",
      "71/71 [==============================] - 1s 10ms/step - loss: 0.4060 - accuracy: 0.8409 - val_loss: 0.8437 - val_accuracy: 0.6240\n",
      "Epoch 81/100\n",
      "71/71 [==============================] - 1s 12ms/step - loss: 0.3985 - accuracy: 0.8516 - val_loss: 0.7859 - val_accuracy: 0.6840\n",
      "Epoch 82/100\n",
      "71/71 [==============================] - 1s 12ms/step - loss: 0.3972 - accuracy: 0.8498 - val_loss: 0.9539 - val_accuracy: 0.6093\n",
      "Epoch 83/100\n",
      "71/71 [==============================] - 1s 11ms/step - loss: 0.3929 - accuracy: 0.8516 - val_loss: 0.7537 - val_accuracy: 0.6947\n",
      "Epoch 84/100\n",
      "71/71 [==============================] - 1s 11ms/step - loss: 0.3831 - accuracy: 0.8569 - val_loss: 0.8213 - val_accuracy: 0.6453\n",
      "Epoch 85/100\n",
      "71/71 [==============================] - 1s 10ms/step - loss: 0.3828 - accuracy: 0.8564 - val_loss: 0.8159 - val_accuracy: 0.6507\n",
      "Epoch 86/100\n",
      "71/71 [==============================] - 1s 12ms/step - loss: 0.3798 - accuracy: 0.8578 - val_loss: 0.8362 - val_accuracy: 0.6347\n",
      "Epoch 87/100\n",
      "71/71 [==============================] - 1s 10ms/step - loss: 0.3807 - accuracy: 0.8573 - val_loss: 0.9403 - val_accuracy: 0.5987\n",
      "Epoch 88/100\n",
      "71/71 [==============================] - 1s 10ms/step - loss: 0.3736 - accuracy: 0.8622 - val_loss: 0.7526 - val_accuracy: 0.7027\n",
      "Epoch 89/100\n",
      "71/71 [==============================] - 1s 11ms/step - loss: 0.3702 - accuracy: 0.8649 - val_loss: 0.8401 - val_accuracy: 0.6373\n",
      "Epoch 90/100\n",
      "71/71 [==============================] - 1s 10ms/step - loss: 0.3678 - accuracy: 0.8609 - val_loss: 0.7523 - val_accuracy: 0.7053\n",
      "Epoch 91/100\n",
      "71/71 [==============================] - 1s 14ms/step - loss: 0.3710 - accuracy: 0.8591 - val_loss: 0.7476 - val_accuracy: 0.6920\n",
      "Epoch 92/100\n",
      "71/71 [==============================] - 1s 11ms/step - loss: 0.3628 - accuracy: 0.8613 - val_loss: 0.7526 - val_accuracy: 0.6973\n",
      "Epoch 93/100\n",
      "71/71 [==============================] - 1s 9ms/step - loss: 0.3596 - accuracy: 0.8653 - val_loss: 0.8112 - val_accuracy: 0.6800\n",
      "Epoch 94/100\n",
      "71/71 [==============================] - 1s 12ms/step - loss: 0.3510 - accuracy: 0.8849 - val_loss: 0.7873 - val_accuracy: 0.6613\n",
      "Epoch 95/100\n",
      "71/71 [==============================] - 1s 10ms/step - loss: 0.3558 - accuracy: 0.8693 - val_loss: 0.7464 - val_accuracy: 0.6920\n",
      "Epoch 96/100\n",
      "71/71 [==============================] - 1s 10ms/step - loss: 0.3482 - accuracy: 0.8769 - val_loss: 0.7632 - val_accuracy: 0.6867\n",
      "Epoch 97/100\n",
      "71/71 [==============================] - 1s 10ms/step - loss: 0.3480 - accuracy: 0.8693 - val_loss: 0.7557 - val_accuracy: 0.6907\n",
      "Epoch 98/100\n",
      "71/71 [==============================] - 1s 12ms/step - loss: 0.3508 - accuracy: 0.8738 - val_loss: 0.7488 - val_accuracy: 0.7013\n",
      "Epoch 99/100\n",
      "71/71 [==============================] - 1s 11ms/step - loss: 0.3407 - accuracy: 0.8796 - val_loss: 0.9123 - val_accuracy: 0.6160\n",
      "Epoch 100/100\n",
      "71/71 [==============================] - 1s 10ms/step - loss: 0.3398 - accuracy: 0.8778 - val_loss: 0.7995 - val_accuracy: 0.6813\n"
     ]
    }
   ],
   "source": [
    "opt = print(\"[INFO] compiling model\")\n",
    "model = ShallowNet.build(width=32, height=32, depth=3, classes=3)\n",
    "model.compile(loss=\"categorical_crossentropy\", optimizer=SGD(lr=0.005),\n",
    "             metrics=[\"accuracy\"])\n",
    "print(\"[INFO] training network\")\n",
    "H = model.fit(trainX, trainY, validation_data=(testX, testY), \n",
    "             batch_size=32, epochs=100, verbose=1)"
   ]
  },
  {
   "cell_type": "code",
   "execution_count": 12,
   "metadata": {},
   "outputs": [
    {
     "name": "stdout",
     "output_type": "stream",
     "text": [
      "INFO evaluating network\n",
      "              precision    recall  f1-score   support\n",
      "\n",
      "         cat       0.59      0.76      0.66       249\n",
      "         dog       0.65      0.58      0.61       262\n",
      "       panda       0.87      0.72      0.78       239\n",
      "\n",
      "    accuracy                           0.68       750\n",
      "   macro avg       0.70      0.68      0.69       750\n",
      "weighted avg       0.70      0.68      0.68       750\n",
      "\n"
     ]
    }
   ],
   "source": [
    "print(\"INFO evaluating network\")\n",
    "predictions = model.predict(testX, batch_size=32)\n",
    "print(classification_report(testY.argmax(axis=1),\n",
    "                           predictions.argmax(axis=1),\n",
    "                           target_names=[\"cat\",\"dog\",\"panda\"]))"
   ]
  },
  {
   "cell_type": "code",
   "execution_count": 13,
   "metadata": {},
   "outputs": [
    {
     "data": {
      "image/png": "[encoded data removed]",
      "text/plain": [
       "<Figure size 432x288 with 1 Axes>"
      ]
     },
     "metadata": {},
     "output_type": "display_data"
    }
   ],
   "source": [
    "plt.style.use(\"ggplot\")\n",
    "plt.figure()\n",
    "plt.plot(np.arange(0, 100), H.history[\"loss\"], label=\"train_loss\")\n",
    "plt.plot(np.arange(0, 100), H.history[\"val_loss\"], label=\"val_loss\")\n",
    "plt.plot(np.arange(0, 100), H.history[\"accuracy\"], label=\"train_acc\")\n",
    "plt.plot(np.arange(0, 100), H.history[\"val_accuracy\"], label=\"val_acc\")\n",
    "plt.title(\"Training Loss and Accuracy\")\n",
    "plt.xlabel(\"Epoch #\")\n",
    "plt.ylabel(\"Loss/Accuracy\")\n",
    "plt.legend()\n",
    "plt.show()"
   ]
  },
  {
   "cell_type": "code",
   "execution_count": null,
   "metadata": {},
   "outputs": [],
   "source": []
  }
 ],
 "metadata": {
  "kernelspec": {
   "display_name": "Python 3",
   "language": "python",
   "name": "python3"
  },
  "language_info": {
   "codemirror_mode": {
    "name": "ipython",
    "version": 3
   },
   "file_extension": ".py",
   "mimetype": "text/x-python",
   "name": "python",
   "nbconvert_exporter": "python",
   "pygments_lexer": "ipython3",
   "version": "3.8.2"
  }
 },
 "nbformat": 4,
 "nbformat_minor": 4
}
