{
 "cells": [
  {
   "cell_type": "markdown",
   "metadata": {},
   "source": [
    "# LeNET\n",
    "|Layer Type|Output Size|Filter Size/Stride|\n",
    "|---|---|---|\n",
    "|INPUT IMAGE|28X28X1||\n",
    "|CONV|28X28X20|5X5,K=20|\n",
    "|ACT|28X28X20|\n",
    "|POOL|14X14X20|2X2,S=2\n",
    "|CONV|14X14X50|5X5,K=50\n",
    "|ACT|14X14X50|\n",
    "|POOL|7X7X50|2X2, S=2\n",
    "|FC|500\n",
    "|ACT|500\n",
    "|FC|10\n",
    "|SOFTMAX|10"
   ]
  },
  {
   "cell_type": "markdown",
   "metadata": {},
   "source": [
    "- Activation layer used is TANH originally, but we use ReLU in this exercise"
   ]
  },
  {
   "cell_type": "code",
   "execution_count": 1,
   "metadata": {},
   "outputs": [],
   "source": [
    "from tensorflow.keras.models import Sequential\n",
    "from tensorflow.keras.layers import Conv2D, MaxPooling2D, Activation, Flatten, Dense\n",
    "from tensorflow.keras import backend as K"
   ]
  },
  {
   "cell_type": "code",
   "execution_count": 2,
   "metadata": {},
   "outputs": [],
   "source": [
    "class LeNet:\n",
    "    @staticmethod\n",
    "    def build(width, height, depth, classes):\n",
    "        model = Sequential()\n",
    "        inputShape = (height, width, depth)\n",
    "        if K.image_data_format() == \"channels_first\":\n",
    "            inputShape = (depth, height, width)\n",
    "            \n",
    "        model.add(Conv2D(20, (5,5), padding=\"same\",\n",
    "                        input_shape=inputShape))\n",
    "        model.add(Conv2D(50, (5,5), padding=\"same\"))\n",
    "        model.add(Activation('relu'))\n",
    "        \n",
    "        model.add(Conv2D(20, (5,5), padding=\"same\"))\n",
    "        model.add(Conv2D(50, (5,5), padding=\"same\"))\n",
    "        model.add(Activation('relu'))\n",
    "                  \n",
    "        model.add(Flatten())\n",
    "        model.add(Dense(500))\n",
    "        model.add(Activation(\"relu\"))\n",
    "        \n",
    "        model.add(Dense(classes))\n",
    "        model.add(Activation(\"softmax\"))\n",
    "        \n",
    "        return model"
   ]
  },
  {
   "cell_type": "code",
   "execution_count": null,
   "metadata": {},
   "outputs": [],
   "source": []
  }
 ],
 "metadata": {
  "kernelspec": {
   "display_name": "Python 3",
   "language": "python",
   "name": "python3"
  },
  "language_info": {
   "codemirror_mode": {
    "name": "ipython",
    "version": 3
   },
   "file_extension": ".py",
   "mimetype": "text/x-python",
   "name": "python",
   "nbconvert_exporter": "python",
   "pygments_lexer": "ipython3",
   "version": "3.8.2"
  }
 },
 "nbformat": 4,
 "nbformat_minor": 4
}
