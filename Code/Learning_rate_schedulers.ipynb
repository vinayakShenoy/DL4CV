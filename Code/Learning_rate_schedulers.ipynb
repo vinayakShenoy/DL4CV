{
  "nbformat": 4,
  "nbformat_minor": 0,
  "metadata": {
    "colab": {
      "name": "Learning_rate_schedulers.ipynb",
      "provenance": [],
      "collapsed_sections": [],
      "authorship_tag": "ABX9TyMwrjCs6GOCkJ3IFCNLKH68",
      "include_colab_link": true
    },
    "kernelspec": {
      "name": "python3",
      "display_name": "Python 3"
    },
    "accelerator": "GPU"
  },
  "cells": [
    {
      "cell_type": "markdown",
      "metadata": {
        "id": "view-in-github",
        "colab_type": "text"
      },
      "source": [
        "<a href=\"https://colab.research.google.com/github/vinayakShenoy/DL4CV/blob/master/Code/Learning_rate_schedulers.ipynb\" target=\"_parent\"><img src=\"https://colab.research.google.com/assets/colab-badge.svg\" alt=\"Open In Colab\"/></a>"
      ]
    },
    {
      "cell_type": "markdown",
      "metadata": {
        "id": "kTFvTYT7lOi4",
        "colab_type": "text"
      },
      "source": [
        "# Dropping the Learning Rate\n",
        "- By adjusting our learning rate on an epoch-to-epoch basis, we can reduce loss increase accuracy, and even in certain situations reduce the total amount of time it takes to train a network.\n",
        "- We can view the process of learning rate scheduling as:\n",
        "  - Finding a set of reasoning good weights early in the training process with a higher learning rate.\n",
        "  - Tuning these weights later in the process to find more optimal weights using a smaller learning rate\n",
        "- Two primary types of learning rate schedulers:\n",
        "  - Learning rate schedulers that decrease gradually based on epoch number (linear, exponential, or polynomial)\n",
        "  - Learning rate schedulers that drop based on specific epoch.\n",
        "\n",
        "## Standard Decay Schedule in Keras\n",
        "- We initialize SGD optimizer wiwth a learning rate of $\\alpha = 0.01$, a momentum $\\gamma=0.9$ and indicate that we are using Nesterov accelerated gradient. \n",
        "We then set our decay to be learning rate divided by total number of epochs.\n",
        "- Keras applies the learning rate schedule to adjust the learning rate after every batch update. \n",
        "- If batch_size=64 and number of images=1024, in one epoch we have 16 batches. Thus learning rate will be adjusted 16 times.\n",
        "- The update formula is:\n",
        "$$\n",
        "lr = init\\_lr * (1.0/(1.0+decay*iterations))\n",
        "$$\n",
        "\n",
        "## Step based decay\n",
        "- Systematically drop the learning rate after specific epochs during training. \n",
        "- It can apply it in two ways:\n",
        "  - Define a equation that models the piecewise drop in learning rate we wish to achieve.\n",
        "  - Use ctrl+x method to stop the script when validation performance has stalled, adjust our learning rate and continue training.\n",
        "- Learning is dropped by half at every step, or in an order of magnitude after every fixed number of epochs.\n",
        "\n",
        "## Implementing Custom Learning Rate Schedules in Keras.\n",
        "- Keras library provides a LearningRateScheduler class that allows us to define a custom learning rate function and then have it automatically applied during the training process.\n",
        "- The below equation, we define a peicewise function that will drop the learning rate by certain factor F after every D epochs:\n",
        "$$\n",
        "\\alpha_{E+1} = \\alpha_l \\times F^{(1+E)/D}\n",
        "$$\n",
        "where $\\alpha_l$ is our initial learning rate, $F$ is the factor value controlling th rate in which the learning rate drops, $D$ is the \"drop every\" epochs value, and $E$ is the current epoch\n",
        "- In python code\n",
        "$$\n",
        "alpha = initAlpha*(factor**(np.floor((1+epoch)/dropEvery)\n",
        "$$"
      ]
    },
    {
      "cell_type": "code",
      "metadata": {
        "id": "MLCK-cu8y1UO",
        "colab_type": "code",
        "colab": {
          "base_uri": "https://localhost:8080/",
          "height": 309
        },
        "outputId": "fe289ed2-3d2a-4c4b-e91a-b3dd0db92fea"
      },
      "source": [
        "!git clone https://github.com/vinayakShenoy/DL4CV\n",
        "!pip install import_ipynb\n",
        "%cd DL4CV/Code"
      ],
      "execution_count": 1,
      "outputs": [
        {
          "output_type": "stream",
          "text": [
            "Cloning into 'DL4CV'...\n",
            "remote: Enumerating objects: 37, done.\u001b[K\n",
            "remote: Counting objects: 100% (37/37), done.\u001b[K\n",
            "remote: Compressing objects: 100% (33/33), done.\u001b[K\n",
            "remote: Total 37 (delta 8), reused 16 (delta 1), pack-reused 0\u001b[K\n",
            "Unpacking objects: 100% (37/37), done.\n",
            "Collecting import_ipynb\n",
            "  Downloading https://files.pythonhosted.org/packages/63/35/495e0021bfdcc924c7cdec4e9fbb87c88dd03b9b9b22419444dc370c8a45/import-ipynb-0.1.3.tar.gz\n",
            "Building wheels for collected packages: import-ipynb\n",
            "  Building wheel for import-ipynb (setup.py) ... \u001b[?25l\u001b[?25hdone\n",
            "  Created wheel for import-ipynb: filename=import_ipynb-0.1.3-cp36-none-any.whl size=2976 sha256=d8b1a5bd30a122fd0169b8616cde1811d532f87893eb97ca3e042e99b39bc928\n",
            "  Stored in directory: /root/.cache/pip/wheels/b4/7b/e9/a3a6e496115dffdb4e3085d0ae39ffe8a814eacc44bbf494b5\n",
            "Successfully built import-ipynb\n",
            "Installing collected packages: import-ipynb\n",
            "Successfully installed import-ipynb-0.1.3\n",
            "/content/DL4CV/Code\n"
          ],
          "name": "stdout"
        }
      ]
    },
    {
      "cell_type": "code",
      "metadata": {
        "id": "R4oTnv-qlItI",
        "colab_type": "code",
        "colab": {
          "base_uri": "https://localhost:8080/",
          "height": 34
        },
        "outputId": "96dc2035-c5f3-48c1-9618-d99db51788d4"
      },
      "source": [
        "from sklearn.preprocessing import LabelBinarizer\n",
        "from sklearn.metrics import classification_report\n",
        "import import_ipynb\n",
        "from  MiniVGGNet import MiniVGGNet\n",
        "from tensorflow.keras.callbacks import LearningRateScheduler\n",
        "from tensorflow.keras.optimizers import SGD\n",
        "from tensorflow.keras.datasets import cifar10\n",
        "import matplotlib.pyplot as plt\n",
        "import numpy as np"
      ],
      "execution_count": 2,
      "outputs": [
        {
          "output_type": "stream",
          "text": [
            "importing Jupyter notebook from MiniVGGNet.ipynb\n"
          ],
          "name": "stdout"
        }
      ]
    },
    {
      "cell_type": "code",
      "metadata": {
        "id": "osa56ML4xFuX",
        "colab_type": "code",
        "colab": {}
      },
      "source": [
        "def step_decay(epoch):\n",
        "  initAlpha = 0.01\n",
        "  factor = 0.25\n",
        "  dropEvery = 5\n",
        "\n",
        "  alpha = initAlpha*(factor**np.floor((1+epoch)/dropEvery))\n",
        "  return float(alpha)"
      ],
      "execution_count": 3,
      "outputs": []
    },
    {
      "cell_type": "code",
      "metadata": {
        "id": "bnU4Lo8RxXTO",
        "colab_type": "code",
        "colab": {
          "base_uri": "https://localhost:8080/",
          "height": 68
        },
        "outputId": "2073be7e-2449-4f5d-aeaf-1e02abd72a89"
      },
      "source": [
        "print(\"INFO loading CIFAR-10 data\")\n",
        "((trainX, trainY), (testX, testY)) = cifar10.load_data()\n",
        "trainX = trainX.astype(\"float\")/255.0\n",
        "testX = testX.astype(\"float\")/255.0\n",
        "\n",
        "lb = LabelBinarizer()\n",
        "trainY = lb.fit_transform(trainY)\n",
        "testY = lb.transform(testY)\n",
        "\n",
        "labelNames = labelNames = [\"airplane\", \"automobile\", \"bird\", \"cat\", \"deer\", \"dog\", \"frog\", \"horse\",\n",
        "                           \"ship\", \"truck\"]"
      ],
      "execution_count": 4,
      "outputs": [
        {
          "output_type": "stream",
          "text": [
            "INFO loading CIFAR-10 data\n",
            "Downloading data from https://www.cs.toronto.edu/~kriz/cifar-10-python.tar.gz\n",
            "170500096/170498071 [==============================] - 4s 0us/step\n"
          ],
          "name": "stdout"
        }
      ]
    },
    {
      "cell_type": "code",
      "metadata": {
        "id": "LA0i_zqax_kN",
        "colab_type": "code",
        "colab": {
          "base_uri": "https://localhost:8080/",
          "height": 1000
        },
        "outputId": "63c6c738-feed-4088-8912-40f08f02ed74"
      },
      "source": [
        "callbacks = [LearningRateScheduler(step_decay)]\n",
        "\n",
        "opt = SGD(lr=0.01, momentum=0.9, nesterov=True)\n",
        "model = MiniVGGNet.build(width=32, height=32, depth=3, classes=10)\n",
        "model.compile(loss=\"categorical_crossentropy\", optimizer=opt,\n",
        "              metrics=[\"accuracy\"])\n",
        "\n",
        "H = model.fit(trainX, trainY, validation_data=(testX, testY),\n",
        "              batch_size=64, epochs=40, callbacks=callbacks, verbose=1)"
      ],
      "execution_count": 5,
      "outputs": [
        {
          "output_type": "stream",
          "text": [
            "Epoch 1/40\n",
            "782/782 [==============================] - 6s 7ms/step - loss: 1.6895 - accuracy: 0.4372 - val_loss: 1.4296 - val_accuracy: 0.5088\n",
            "Epoch 2/40\n",
            "782/782 [==============================] - 5s 7ms/step - loss: 1.2218 - accuracy: 0.5789 - val_loss: 1.1108 - val_accuracy: 0.6137\n",
            "Epoch 3/40\n",
            "782/782 [==============================] - 5s 7ms/step - loss: 1.0136 - accuracy: 0.6489 - val_loss: 0.8660 - val_accuracy: 0.6990\n",
            "Epoch 4/40\n",
            "782/782 [==============================] - 5s 7ms/step - loss: 0.8892 - accuracy: 0.6906 - val_loss: 0.9595 - val_accuracy: 0.6653\n",
            "Epoch 5/40\n",
            "782/782 [==============================] - 5s 7ms/step - loss: 0.7391 - accuracy: 0.7389 - val_loss: 0.6831 - val_accuracy: 0.7619\n",
            "Epoch 6/40\n",
            "782/782 [==============================] - 5s 7ms/step - loss: 0.6846 - accuracy: 0.7583 - val_loss: 0.6780 - val_accuracy: 0.7634\n",
            "Epoch 7/40\n",
            "782/782 [==============================] - 5s 7ms/step - loss: 0.6650 - accuracy: 0.7644 - val_loss: 0.6477 - val_accuracy: 0.7709\n",
            "Epoch 8/40\n",
            "782/782 [==============================] - 5s 7ms/step - loss: 0.6435 - accuracy: 0.7740 - val_loss: 0.6324 - val_accuracy: 0.7801\n",
            "Epoch 9/40\n",
            "782/782 [==============================] - 5s 7ms/step - loss: 0.6232 - accuracy: 0.7807 - val_loss: 0.6695 - val_accuracy: 0.7705\n",
            "Epoch 10/40\n",
            "782/782 [==============================] - 5s 7ms/step - loss: 0.5884 - accuracy: 0.7925 - val_loss: 0.6199 - val_accuracy: 0.7857\n",
            "Epoch 11/40\n",
            "782/782 [==============================] - 5s 7ms/step - loss: 0.5781 - accuracy: 0.7964 - val_loss: 0.6072 - val_accuracy: 0.7878\n",
            "Epoch 12/40\n",
            "782/782 [==============================] - 5s 7ms/step - loss: 0.5700 - accuracy: 0.7980 - val_loss: 0.6083 - val_accuracy: 0.7884\n",
            "Epoch 13/40\n",
            "782/782 [==============================] - 5s 7ms/step - loss: 0.5656 - accuracy: 0.8002 - val_loss: 0.6022 - val_accuracy: 0.7920\n",
            "Epoch 14/40\n",
            "782/782 [==============================] - 5s 7ms/step - loss: 0.5619 - accuracy: 0.8025 - val_loss: 0.5992 - val_accuracy: 0.7930\n",
            "Epoch 15/40\n",
            "782/782 [==============================] - 5s 7ms/step - loss: 0.5506 - accuracy: 0.8047 - val_loss: 0.5957 - val_accuracy: 0.7939\n",
            "Epoch 16/40\n",
            "782/782 [==============================] - 5s 7ms/step - loss: 0.5490 - accuracy: 0.8063 - val_loss: 0.5930 - val_accuracy: 0.7946\n",
            "Epoch 17/40\n",
            "782/782 [==============================] - 5s 7ms/step - loss: 0.5479 - accuracy: 0.8048 - val_loss: 0.5931 - val_accuracy: 0.7935\n",
            "Epoch 18/40\n",
            "782/782 [==============================] - 5s 7ms/step - loss: 0.5432 - accuracy: 0.8074 - val_loss: 0.5956 - val_accuracy: 0.7941\n",
            "Epoch 19/40\n",
            "782/782 [==============================] - 5s 7ms/step - loss: 0.5414 - accuracy: 0.8086 - val_loss: 0.5936 - val_accuracy: 0.7929\n",
            "Epoch 20/40\n",
            "782/782 [==============================] - 5s 7ms/step - loss: 0.5377 - accuracy: 0.8112 - val_loss: 0.5916 - val_accuracy: 0.7952\n",
            "Epoch 21/40\n",
            "782/782 [==============================] - 5s 7ms/step - loss: 0.5412 - accuracy: 0.8088 - val_loss: 0.5904 - val_accuracy: 0.7946\n",
            "Epoch 22/40\n",
            "782/782 [==============================] - 5s 7ms/step - loss: 0.5354 - accuracy: 0.8093 - val_loss: 0.5918 - val_accuracy: 0.7950\n",
            "Epoch 23/40\n",
            "782/782 [==============================] - 5s 7ms/step - loss: 0.5371 - accuracy: 0.8096 - val_loss: 0.5914 - val_accuracy: 0.7965\n",
            "Epoch 24/40\n",
            "782/782 [==============================] - 5s 7ms/step - loss: 0.5388 - accuracy: 0.8078 - val_loss: 0.5902 - val_accuracy: 0.7951\n",
            "Epoch 25/40\n",
            "782/782 [==============================] - 5s 7ms/step - loss: 0.5370 - accuracy: 0.8105 - val_loss: 0.5920 - val_accuracy: 0.7942\n",
            "Epoch 26/40\n",
            "782/782 [==============================] - 5s 7ms/step - loss: 0.5312 - accuracy: 0.8109 - val_loss: 0.5909 - val_accuracy: 0.7948\n",
            "Epoch 27/40\n",
            "782/782 [==============================] - 5s 7ms/step - loss: 0.5380 - accuracy: 0.8112 - val_loss: 0.5896 - val_accuracy: 0.7959\n",
            "Epoch 28/40\n",
            "782/782 [==============================] - 5s 7ms/step - loss: 0.5444 - accuracy: 0.8076 - val_loss: 0.5915 - val_accuracy: 0.7950\n",
            "Epoch 29/40\n",
            "782/782 [==============================] - 5s 7ms/step - loss: 0.5396 - accuracy: 0.8083 - val_loss: 0.5908 - val_accuracy: 0.7949\n",
            "Epoch 30/40\n",
            "782/782 [==============================] - 5s 7ms/step - loss: 0.5359 - accuracy: 0.8107 - val_loss: 0.5921 - val_accuracy: 0.7947\n",
            "Epoch 31/40\n",
            "782/782 [==============================] - 5s 7ms/step - loss: 0.5397 - accuracy: 0.8071 - val_loss: 0.5913 - val_accuracy: 0.7944\n",
            "Epoch 32/40\n",
            "782/782 [==============================] - 5s 7ms/step - loss: 0.5371 - accuracy: 0.8096 - val_loss: 0.5898 - val_accuracy: 0.7959\n",
            "Epoch 33/40\n",
            "782/782 [==============================] - 5s 7ms/step - loss: 0.5397 - accuracy: 0.8091 - val_loss: 0.5922 - val_accuracy: 0.7943\n",
            "Epoch 34/40\n",
            "782/782 [==============================] - 5s 7ms/step - loss: 0.5388 - accuracy: 0.8094 - val_loss: 0.5919 - val_accuracy: 0.7950\n",
            "Epoch 35/40\n",
            "782/782 [==============================] - 5s 7ms/step - loss: 0.5367 - accuracy: 0.8082 - val_loss: 0.5904 - val_accuracy: 0.7947\n",
            "Epoch 36/40\n",
            "782/782 [==============================] - 5s 7ms/step - loss: 0.5400 - accuracy: 0.8080 - val_loss: 0.5911 - val_accuracy: 0.7950\n",
            "Epoch 37/40\n",
            "782/782 [==============================] - 5s 7ms/step - loss: 0.5357 - accuracy: 0.8115 - val_loss: 0.5906 - val_accuracy: 0.7947\n",
            "Epoch 38/40\n",
            "782/782 [==============================] - 5s 7ms/step - loss: 0.5320 - accuracy: 0.8112 - val_loss: 0.5895 - val_accuracy: 0.7956\n",
            "Epoch 39/40\n",
            "782/782 [==============================] - 5s 7ms/step - loss: 0.5357 - accuracy: 0.8109 - val_loss: 0.5911 - val_accuracy: 0.7950\n",
            "Epoch 40/40\n",
            "782/782 [==============================] - 5s 7ms/step - loss: 0.5356 - accuracy: 0.8099 - val_loss: 0.5904 - val_accuracy: 0.7948\n"
          ],
          "name": "stdout"
        }
      ]
    },
    {
      "cell_type": "code",
      "metadata": {
        "id": "AIilSM0JyiUQ",
        "colab_type": "code",
        "colab": {
          "base_uri": "https://localhost:8080/",
          "height": 323
        },
        "outputId": "214d08c1-e34b-46ea-c365-6e34fa3b3cb6"
      },
      "source": [
        "print(\"[INFO] evaluating network...\")\n",
        "predictions = model.predict(testX, batch_size=64)\n",
        "print(classification_report(testY.argmax(axis=1),\n",
        "predictions.argmax(axis=1), target_names=labelNames))"
      ],
      "execution_count": 6,
      "outputs": [
        {
          "output_type": "stream",
          "text": [
            "[INFO] evaluating network...\n",
            "              precision    recall  f1-score   support\n",
            "\n",
            "    airplane       0.83      0.80      0.81      1000\n",
            "  automobile       0.92      0.88      0.90      1000\n",
            "        bird       0.73      0.67      0.70      1000\n",
            "         cat       0.65      0.60      0.62      1000\n",
            "        deer       0.71      0.80      0.75      1000\n",
            "         dog       0.71      0.70      0.70      1000\n",
            "        frog       0.79      0.89      0.84      1000\n",
            "       horse       0.86      0.82      0.84      1000\n",
            "        ship       0.89      0.89      0.89      1000\n",
            "       truck       0.86      0.89      0.87      1000\n",
            "\n",
            "    accuracy                           0.79     10000\n",
            "   macro avg       0.79      0.79      0.79     10000\n",
            "weighted avg       0.79      0.79      0.79     10000\n",
            "\n"
          ],
          "name": "stdout"
        }
      ]
    },
    {
      "cell_type": "code",
      "metadata": {
        "id": "10cUguy1ytrn",
        "colab_type": "code",
        "colab": {
          "base_uri": "https://localhost:8080/",
          "height": 316
        },
        "outputId": "7b010210-16d5-4e11-d07e-26b4561cbbbe"
      },
      "source": [
        "plt.style.use(\"ggplot\")\n",
        "plt.figure()\n",
        "plt.plot(np.arange(0, 40), H.history[\"loss\"], label=\"train_loss\")\n",
        "plt.plot(np.arange(0, 40), H.history[\"val_loss\"], label=\"val_loss\")\n",
        "plt.plot(np.arange(0, 40), H.history[\"accuracy\"], label=\"train_acc\")\n",
        "plt.plot(np.arange(0, 40), H.history[\"val_accuracy\"], label=\"val_acc\")\n",
        "plt.title(\"Training Loss and Accuracy on CIFAR-10\")\n",
        "plt.xlabel(\"Epoch #\")\n",
        "plt.ylabel(\"Loss/Accuracy\")\n",
        "plt.legend()"
      ],
      "execution_count": 7,
      "outputs": [
        {
          "output_type": "execute_result",
          "data": {
            "text/plain": [
              "<matplotlib.legend.Legend at 0x7f8cde321358>"
            ]
          },
          "metadata": {
            "tags": []
          },
          "execution_count": 7
        },
        {
          "output_type": "display_data",
          "data": {
            "image/png": "[encoded data removed]",
            "text/plain": [
              "<Figure size 432x288 with 1 Axes>"
            ]
          },
          "metadata": {
            "tags": []
          }
        }
      ]
    },
    {
      "cell_type": "code",
      "metadata": {
        "id": "UxZ2eiAAywMa",
        "colab_type": "code",
        "colab": {}
      },
      "source": [
        ""
      ],
      "execution_count": null,
      "outputs": []
    }
  ]
}