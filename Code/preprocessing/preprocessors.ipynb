{
  "nbformat": 4,
  "nbformat_minor": 0,
  "metadata": {
    "colab": {
      "name": "preprocessors.ipynb",
      "provenance": [],
      "collapsed_sections": [],
      "authorship_tag": "ABX9TyPV7yYvPjCp8xZZIye5Oay5",
      "include_colab_link": true
    },
    "kernelspec": {
      "name": "python3",
      "display_name": "Python 3"
    }
  },
  "cells": [
    {
      "cell_type": "markdown",
      "metadata": {
        "id": "view-in-github",
        "colab_type": "text"
      },
      "source": [
        "<a href=\"https://colab.research.google.com/github/vinayakShenoy/DL4CV/blob/master/Code/preprocessing/preprocessors.ipynb\" target=\"_parent\"><img src=\"https://colab.research.google.com/assets/colab-badge.svg\" alt=\"Open In Colab\"/></a>"
      ]
    },
    {
      "cell_type": "code",
      "metadata": {
        "id": "7LBDRTc__aQm",
        "colab_type": "code",
        "colab": {}
      },
      "source": [
        "import cv2\n",
        "import numpy as np\n",
        "import os\n",
        "from tensorflow.keras.preprocessing.image import img_to_array\n",
        "import imutils"
      ],
      "execution_count": null,
      "outputs": []
    },
    {
      "cell_type": "code",
      "metadata": {
        "id": "pb9J7S7-_d41",
        "colab_type": "code",
        "colab": {}
      },
      "source": [
        "class SimplePreprocessor:\n",
        "    def __init__(self, width, height, inter=cv2.INTER_AREA):\n",
        "        self.width = width\n",
        "        self.height = height\n",
        "        self.inter = inter\n",
        "        \n",
        "    def preprocess(self, image):\n",
        "        return cv2.resize(image, (self.width, self.height), \n",
        "                         interpolation=self.inter)"
      ],
      "execution_count": null,
      "outputs": []
    },
    {
      "cell_type": "code",
      "metadata": {
        "id": "FqttCaWb_hXt",
        "colab_type": "code",
        "colab": {}
      },
      "source": [
        "class SimpleDatasetLoader:\n",
        "    def __init__(self, preprocessors=None):\n",
        "        self.preprocessors = preprocessors\n",
        "        if self.preprocessors is None:\n",
        "            self.preprocessors = []\n",
        "    \n",
        "    def load(self, imagePaths, verbose=-1):\n",
        "        data = []\n",
        "        labels = []\n",
        "        for (i, imagePath) in enumerate(imagePaths):\n",
        "            image = cv2.imread(imagePath)\n",
        "            label = imagePath.split(os.path.sep)[-2]\n",
        "            if self.preprocessors is not None:\n",
        "                for p in self.preprocessors:\n",
        "                    image = p.preprocess(image)\n",
        "            data.append(image)\n",
        "            labels.append(label)\n",
        "            if verbose>0 and i>0 and (i+1)%verbose==0:\n",
        "                print(\"[INFO] processed {}/{}\".format(i+1, len(imagePaths)))\n",
        "        return (np.array(data), np.array(labels))"
      ],
      "execution_count": null,
      "outputs": []
    },
    {
      "cell_type": "code",
      "metadata": {
        "id": "S4qp1n5G_j-a",
        "colab_type": "code",
        "colab": {}
      },
      "source": [
        "class ImageToArrayPreprocessor:\n",
        "    def __init__(self, dataFormat=None):\n",
        "        self.dataFormat = dataFormat\n",
        "        \n",
        "    def preprocess(self, image):\n",
        "        return img_to_array(image, data_format=self.dataFormat)"
      ],
      "execution_count": null,
      "outputs": []
    },
    {
      "cell_type": "code",
      "metadata": {
        "id": "P7S7QotgAhNl",
        "colab_type": "code",
        "colab": {}
      },
      "source": [
        "class AspectAwarePreprocessor:\n",
        "  def __init__(self, width, height, inter=cv2.INTER_AREA):\n",
        "    self.width = width\n",
        "    self.height = height\n",
        "    self.inter = inter\n",
        "  \n",
        "  def preprocess(self, image):\n",
        "    (h, w) = image.shape[:2]\n",
        "    dW = 0\n",
        "    dH = 0\n",
        "    if w<h:\n",
        "      image = imutils.resize(image, width=self.width, inter=self.inter)\n",
        "      dH = int((image.shape[0] - self.height)/2.0)\n",
        "    else:\n",
        "      image = imutils.resize(image, height=self.height, inter=self.inter)\n",
        "      dW = int((image.shape[1] - self.width)/2.0)\n",
        "\n",
        "    (h,w) = image.shape[:2]\n",
        "    image = image[dH:h-dH, dW]\n",
        "    return cv2.resize(image, (self.width, self.height), interpolation=self.inter)"
      ],
      "execution_count": null,
      "outputs": []
    }
  ]
}