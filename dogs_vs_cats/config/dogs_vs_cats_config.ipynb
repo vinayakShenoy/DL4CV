{
 "cells": [
  {
   "cell_type": "code",
   "execution_count": null,
   "metadata": {},
   "outputs": [],
   "source": [
    "# define the paths to images directory\n",
    "IMAGES_PATH = \"../dataset/kaggle_dogs_vs_cats/train\"\n",
    "\n",
    "# since we do not have validation data, we need to take a number of images from training data \n",
    "# and use them instead\n",
    "NUM_CLASSES = 2\n",
    "NUM_VAL_IMAGES = 1250*NUM_CLASSES\n",
    "NUM_TEST_IMAGES = 1250*NUM_CLASSES\n",
    "\n",
    "# define the path to output training, validation testing HDF5 files\n",
    "TRAIN_HDF5 = \"../datasets/kaggle_dogs_vs_cats/hdf5/train.hdf5\"\n",
    "VAL_HDF5 = \"../datasets/kaggle_dogs_vs_cats/hdf5/val.hdf5\"\n",
    "TEST_HDF5 = \"../datasets/kaggle_dogs_vs_cats/hdf5/test.hdf5\"\n",
    "\n",
    "# path to output model file\n",
    "MODEL_PATH = \"output/alexnet_dogs_vs_cats.model\"\n",
    "\n",
    "# define the path dataset mean\n",
    "# Used to store the average red, green, and blue pixel intensity \n",
    "# values across the entire (training) dataset\n",
    "DATASET_MEAN = \"output/dogs_vs_cats_mean.json\"\n",
    "\n",
    "# define the path to output directory used for storing plots,\n",
    "# classification report, etc.\n",
    "OUTPUT_PATH = \"output\""
   ]
  }
 ],
 "metadata": {
  "kernelspec": {
   "display_name": "Python 3",
   "language": "python",
   "name": "python3"
  },
  "language_info": {
   "codemirror_mode": {
    "name": "ipython",
    "version": 3
   },
   "file_extension": ".py",
   "mimetype": "text/x-python",
   "name": "python",
   "nbconvert_exporter": "python",
   "pygments_lexer": "ipython3",
   "version": "3.8.2"
  }
 },
 "nbformat": 4,
 "nbformat_minor": 4
}
