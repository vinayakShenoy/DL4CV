{
 "cells": [
  {
   "cell_type": "code",
   "execution_count": null,
   "metadata": {},
   "outputs": [],
   "source": [
    "from config import dogs_vs_cats_config as config\n",
    "from pyimage.preprocessing.preprocessors import ImageToArrayPreprocessor, SimplePreprocessor, MeanPreprocessor, CropPreprocessor\n",
    "from pyimage.io.hd5py import HDF5DatasetGenerator\n",
    "from tensorflow.keras.models import load_model\n",
    "import numpy as np\n",
    "import progressbar\n",
    "import json"
   ]
  },
  {
   "cell_type": "code",
   "execution_count": null,
   "metadata": {},
   "outputs": [],
   "source": [
    "means = json.loads(open(config.DATASET_MEAN).read())\n",
    "\n",
    "sp = SimplePreprocessor(227, 227)\n",
    "mp = MeanPreprocessor(means[\"R\"], mean[\"G\"], means[\"B\"])\n",
    "cp = CropPreprocessor(227, 227)\n",
    "iap = ImageToArrayPreprocessor()\n",
    "\n",
    "print(\"INFO loading model\")\n",
    "model = load_model(config.MODEL_PATH)"
   ]
  },
  {
   "cell_type": "code",
   "execution_count": null,
   "metadata": {},
   "outputs": [],
   "source": [
    "print(\"INFO predicting on test data (no crops)\")\n",
    "testGen = HDF5Generator(config.TEST.HDF5, 64, preprocessors=[sp, mp, iap], classes=2)\n",
    "predictions = model.predict_generator(testGen.generator(),\n",
    "                                     steps=testGen.numImages//64, max_queue_size=10)\n",
    "\n",
    "(rank1, _) = rank5_accuracy(predictions, testGen.db[\"labels\"])\n",
    "print(\"INFO rank-1: {:.2f}%\".format(rank1*100))\n",
    "testGen.close()"
   ]
  },
  {
   "cell_type": "code",
   "execution_count": null,
   "metadata": {},
   "outputs": [],
   "source": [
    "testGen = HDF5DatasetGenerator(config.TEST_HDF5, 64, preprocessors=[mp], classes=2)\n",
    "predictions = []\n",
    "\n",
    "widgets = [\"Evaluating: \", progressbar.Percentage(), \" \", progressbar.Bar(), \" \", progressbar.ETA()]\n",
    "pbar = progressbar.ProgressBar(maxval=testGen.numImages // 64, widgets=widgets).start()"
   ]
  },
  {
   "cell_type": "code",
   "execution_count": null,
   "metadata": {},
   "outputs": [],
   "source": [
    "for (i, (images, labels)) in enumerate(testGen.generator(passes=1)):\n",
    "    # loop over each of the individual images\n",
    "    for image in images:\n",
    "        # apply the crop preprocessor to the image to generate 10\n",
    "        # separate crops, then convert them from images to arrays\n",
    "        crops = cp.preprocess(image)\n",
    "        crops = np.array([iap.preprocess(c) for c in crops], dtype=\"float32\")\n",
    "        \n",
    "        pred = model.predict(crops)\n",
    "        predictions.append(pred.mean(axis=0))\n",
    "    \n",
    "    pbar.update(i)"
   ]
  },
  {
   "cell_type": "code",
   "execution_count": null,
   "metadata": {},
   "outputs": [],
   "source": [
    "pbar.finish()\n",
    "print(\"[INFO] predicting on test data (with crops)...\")\n",
    "(rank1, _) = rank5_accuracy(predictions, testGen.db[\"labels\"])\n",
    "print(\"[INFO] rank-1: {:.2f}%\".format(rank1 * 100))\n",
    "testGen.close()"
   ]
  }
 ],
 "metadata": {
  "kernelspec": {
   "display_name": "Python 3",
   "language": "python",
   "name": "python3"
  },
  "language_info": {
   "codemirror_mode": {
    "name": "ipython",
    "version": 3
   },
   "file_extension": ".py",
   "mimetype": "text/x-python",
   "name": "python",
   "nbconvert_exporter": "python",
   "pygments_lexer": "ipython3",
   "version": "3.8.2"
  }
 },
 "nbformat": 4,
 "nbformat_minor": 4
}
