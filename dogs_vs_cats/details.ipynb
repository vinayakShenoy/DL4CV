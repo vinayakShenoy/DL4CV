{
 "cells": [
  {
   "cell_type": "markdown",
   "metadata": {},
   "source": [
    "# Chapter 9\n",
    "\n",
    "## build_dogs_vs_cats.py\n",
    "- The reason we serialized the raw images into an HDF5 file rather than simply accessing mini-batches of image paths on disk when training is due to I/O latency – for each image on disk we would have to perform an I/O operation to read the image. \n",
    "- This subtle optimization doesn’t seem like a big deal, but I/O latency is a huge problem in a deep learning pipeline\n",
    "- If we serialize all images into an efficiently packed HDF5 file, we can leverage very fast array slices to extract our mini-batches, thereby dramatically reducing I/O latency and helping speed up the training process.\n",
    "\n",
    "# Chapter 10\n",
    "## Additional Image Preprocessors\n",
    "- A mean subtraction pre-processor designed to subtract the mean RGB across a dataset from input image\n",
    "$$\n",
    "R = R - \\mu_R\n",
    "$$\n",
    "$$\n",
    "G = G - \\mu_G\n",
    "$$\n",
    "$$\n",
    "B = B - \\mu_B\n",
    "$$\n",
    "- A patch preprocessor used to randomly extract M × N pixel regions from an image during training.\n",
    "    - We apply patch preprocessing when the spatial dimensions of our input images are larger than what the CNN expects – this is a common technique to help reduce overfitting, and is, therefore, a form of regularization.\n",
    "- We need to define a CropPreprocessor responsible for computing the 10-crops for over-sampling. During the evaluating phase of our CNN, we’ll crop the four corners of the input image + the center region and then take their corresponding horizontal flips, for a total of ten samples per input image. These ten samples will be passed through the CNN, and then the probabilities averaged"
   ]
  }
 ],
 "metadata": {
  "kernelspec": {
   "display_name": "Python 3",
   "language": "python",
   "name": "python3"
  },
  "language_info": {
   "codemirror_mode": {
    "name": "ipython",
    "version": 3
   },
   "file_extension": ".py",
   "mimetype": "text/x-python",
   "name": "python",
   "nbconvert_exporter": "python",
   "pygments_lexer": "ipython3",
   "version": "3.8.2"
  }
 },
 "nbformat": 4,
 "nbformat_minor": 4
}
