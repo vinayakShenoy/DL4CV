{
  "nbformat": 4,
  "nbformat_minor": 0,
  "metadata": {
    "colab": {
      "name": "rank-accuracies.ipynb",
      "provenance": [],
      "collapsed_sections": [],
      "authorship_tag": "ABX9TyNZ9Gfh9NsgFlfVC6HmwnIJ",
      "include_colab_link": true
    },
    "kernelspec": {
      "name": "python3",
      "display_name": "Python 3"
    }
  },
  "cells": [
    {
      "cell_type": "markdown",
      "metadata": {
        "id": "view-in-github",
        "colab_type": "text"
      },
      "source": [
        "<a href=\"https://colab.research.google.com/github/vinayakShenoy/DL4CV/blob/master/rank_accuracies.ipynb\" target=\"_parent\"><img src=\"https://colab.research.google.com/assets/colab-badge.svg\" alt=\"Open In Colab\"/></a>"
      ]
    },
    {
      "cell_type": "code",
      "metadata": {
        "id": "AcZWtFSFilpQ",
        "colab_type": "code",
        "colab": {}
      },
      "source": [
        ""
      ],
      "execution_count": null,
      "outputs": []
    },
    {
      "cell_type": "markdown",
      "metadata": {
        "id": "c_wbkAFdipxP",
        "colab_type": "text"
      },
      "source": [
        "# Ranked Accuracy\n",
        "- When reading deep learning literature, especially in the computer vision and image classification space, you’ll likely encounter the concept of ranked accuracy.\n",
        "\n",
        "## Rank-1 Accuracy\n",
        "- Rank-1 accuracy is the percentage of predictions where the top prediction matches the ground-truth label – this is the “standard” type of accuracy we are used to computing: take the total number of correct predictions and divide it by\n",
        "the number of data points in the dataset.\n",
        "- Below is the steps:\n",
        "  - Computing the class label probabilites for each input image in the dataset\n",
        "  - Determining if the ground-truth label is equal to predicted class label with the largest probability\n",
        "  - Tallying the number of times where Step 2 is true\n",
        "\n",
        "## Rank-5 accuracy\n",
        "- Steps to calculate Rank-5 accuracy\n",
        "  - Compute the class label probabilities for each input image in dataset\n",
        "  - Sort the predicted class label probabilities in descending order, such that labels with higher probabilities are places at the front of the list\n",
        "  - Determine if the ground-truth label exists in top-5 predicted labels from Step2\n",
        "  - Tally the number of times where Step3 is true"
      ]
    }
  ]
}