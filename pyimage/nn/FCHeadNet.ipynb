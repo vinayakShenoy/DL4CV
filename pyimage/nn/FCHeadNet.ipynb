{
  "nbformat": 4,
  "nbformat_minor": 0,
  "metadata": {
    "colab": {
      "name": "FCHeadNet.ipynb",
      "provenance": [],
      "collapsed_sections": [],
      "authorship_tag": "ABX9TyN7x5LLhYkwTlqEFwytbKI4",
      "include_colab_link": true
    },
    "kernelspec": {
      "name": "python3",
      "display_name": "Python 3"
    }
  },
  "cells": [
    {
      "cell_type": "markdown",
      "metadata": {
        "id": "view-in-github",
        "colab_type": "text"
      },
      "source": [
        "<a href=\"https://colab.research.google.com/github/vinayakShenoy/DL4CV/blob/master/pyimage/nn/FCHeadNet.ipynb\" target=\"_parent\"><img src=\"https://colab.research.google.com/assets/colab-badge.svg\" alt=\"Open In Colab\"/></a>"
      ]
    },
    {
      "cell_type": "code",
      "metadata": {
        "id": "i1AX_v2eET2l",
        "colab_type": "code",
        "colab": {}
      },
      "source": [
        "from tensorflow.keras.layers import Dropout, Flatten, Dense"
      ],
      "execution_count": null,
      "outputs": []
    },
    {
      "cell_type": "code",
      "metadata": {
        "id": "CauY_5qvEiN6",
        "colab_type": "code",
        "colab": {}
      },
      "source": [
        "class FCHeadNet:\n",
        "  @staticmethod\n",
        "  def build(baseModel, classes, D):\n",
        "    # init the head model that will be places on top of base, then add FC layer\n",
        "    headModel = baseModel.output\n",
        "    headModel = Flatten(name=\"flatten\")(headModel)\n",
        "    headModel = Dense(D, activation=\"relu\")(headModel)\n",
        "    headModel = Dropout(0.5)(headModel)\n",
        "\n",
        "    # add a softmax layer\n",
        "    headModel = Dense(classes, activation=\"softmax\")(headModel)\n",
        "\n",
        "    return headModel"
      ],
      "execution_count": null,
      "outputs": []
    }
  ]
}