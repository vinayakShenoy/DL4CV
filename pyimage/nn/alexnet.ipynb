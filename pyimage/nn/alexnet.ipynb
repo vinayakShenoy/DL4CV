{
 "cells": [
  {
   "cell_type": "code",
   "execution_count": null,
   "metadata": {},
   "outputs": [],
   "source": [
    "from tensorflow.keras.models import Sequential\n",
    "from tensorflow.keras.layers import BatchNormalization, Conv2D, MaxPool2D, Activation, Flatten, Dropout, Dense\n",
    "from tensorflow.keras.regularizers import l2\n",
    "from tensorflow.keras import backend as K"
   ]
  },
  {
   "cell_type": "code",
   "execution_count": null,
   "metadata": {},
   "outputs": [],
   "source": [
    "class AlexNet:\n",
    "    @staticmethod\n",
    "    def build(width, height, depth, classes, reg=0.0002):\n",
    "        # init the model along with the input shape to be\n",
    "        # 'channels last' and channels dimension itself\n",
    "        model = Sequential()\n",
    "        inputShape = (height, width, depth)\n",
    "        chanDim = -1\n",
    "        \n",
    "        if K.image_data_format() == \"channels_first\":\n",
    "            inputShape = (depth, height, width)\n",
    "            chanDim = 1\n",
    "        \n",
    "        # Bloack #1: first CONV=>RELU=>POOL layer set\n",
    "        model.add(Conv2D(96, (11,11), strides=(4,4),\n",
    "                        input_shape=inputShape, padding=\"same\",\n",
    "                        kernel_regularizer=l2(reg)))\n",
    "        model.add(Activation(\"relu\"))\n",
    "        model.add(BatchNormalization(axis=chanDim))\n",
    "        model.add(MaxPooling2D(pool_size=(3,3), strides=(2,2)))\n",
    "        model.add(Dropout(0.25))\n",
    "        \n",
    "        # Block #2: second CONV=>RElU=>POOL\n",
    "        model.add(Conv2D(256, (5,5), padding=\"same\", kernel_regularizer=l2(reg)))\n",
    "        model.add(Activation(\"relu\"))\n",
    "        model.add(BatchNormalization(axis=chanDim))\n",
    "        model.add(MaxPooling2D(pool_size=(3,3), strides=(2,2)))\n",
    "        model.add(Dropout(0.25))\n",
    "        \n",
    "        # Deeper, richer features are learned in the third block of AlexNet where we stack multiple CONV\n",
    "        # => RELU together prior to applying a POOL operation:\n",
    "        model.add(Conv2D(384, (3,3), padding=\"same\", kernel_regularizer=l2(reg)))\n",
    "        model.add(Activation(\"relu\"))\n",
    "        model.add(BatchNormalization(axis=chanDim))\n",
    "        model.add(Conv2D(384, (3,3), padding=\"same\", kernel_regularizer=l2(reg)))\n",
    "        model.add(Activation(\"relu\"))\n",
    "        model.add(BatchNormalization(axis=chanDim))\n",
    "        model.add(Conv2D(256, (3,3), padding=\"same\", kernel_regularizer=l2(reg)))\n",
    "        model.add(Activation(\"relu\"))\n",
    "        model.add(BatchNormalization(axis=chanDim))\n",
    "        model.add(MaxPooling2D(pool_size=(3,3), strides=(2,2)))\n",
    "        model.add(Dropout(0.25))\n",
    "        \n",
    "        # Block #4:first set of FC=>RELU layers\n",
    "        model.add(Flatten())\n",
    "        model.add(Dense(4096, kernel_regularizer=l2(reg)))\n",
    "        model.add(Activation(\"relu\"))\n",
    "        model.add(BatchNormalization())\n",
    "        model.add(Dropout(0.5))\n",
    "        \n",
    "        #Block #5: second set of FC=> RELU layers\n",
    "        model.add(Dense(4096, kernel_regularizer=l2(reg)))\n",
    "        model.add(Activation(\"relu\"))\n",
    "        model.add(BatchNormalization())\n",
    "        model.add(Dropout(0.5))\n",
    "        \n",
    "        #softmax classifier\n",
    "        model.add(Dense(classes, kernel_regularizer=l2(reg)))\n",
    "        model.add(Activation(\"softmax\"))\n",
    "        \n",
    "        return model"
   ]
  }
 ],
 "metadata": {
  "kernelspec": {
   "display_name": "Python 3",
   "language": "python",
   "name": "python3"
  },
  "language_info": {
   "codemirror_mode": {
    "name": "ipython",
    "version": 3
   },
   "file_extension": ".py",
   "mimetype": "text/x-python",
   "name": "python",
   "nbconvert_exporter": "python",
   "pygments_lexer": "ipython3",
   "version": "3.8.2"
  }
 },
 "nbformat": 4,
 "nbformat_minor": 4
}
