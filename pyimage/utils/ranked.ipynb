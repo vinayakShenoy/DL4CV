{
 "cells": [
  {
   "cell_type": "code",
   "execution_count": null,
   "metadata": {},
   "outputs": [],
   "source": [
    "import numpy as np"
   ]
  },
  {
   "cell_type": "code",
   "execution_count": null,
   "metadata": {},
   "outputs": [],
   "source": [
    "def rank5_accuracy(preds, labels):\n",
    "    rank1 = 0\n",
    "    rank5 = 0\n",
    "    \n",
    "    for (p, gt) in zip(preds, labels):\n",
    "        p = np.argsort(p)[::-1]\n",
    "        \n",
    "        if gt in p[:5]:\n",
    "            rank5 += 1\n",
    "        \n",
    "        if gt==p[0]:\n",
    "            rank+=1\n",
    "        \n",
    "    rank1 /= float(len(preds))\n",
    "    rank5 /= float(len(preds))\n",
    "        \n",
    "    return (rank1, rank5)"
   ]
  }
 ],
 "metadata": {
  "kernelspec": {
   "display_name": "Python 3",
   "language": "python",
   "name": "python3"
  },
  "language_info": {
   "codemirror_mode": {
    "name": "ipython",
    "version": 3
   },
   "file_extension": ".py",
   "mimetype": "text/x-python",
   "name": "python",
   "nbconvert_exporter": "python",
   "pygments_lexer": "ipython3",
   "version": "3.8.2"
  }
 },
 "nbformat": 4,
 "nbformat_minor": 4
}
