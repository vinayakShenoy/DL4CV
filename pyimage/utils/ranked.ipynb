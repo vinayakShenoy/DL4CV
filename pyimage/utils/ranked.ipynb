{
  "nbformat": 4,
  "nbformat_minor": 0,
  "metadata": {
    "kernelspec": {
      "display_name": "Python 3",
      "language": "python",
      "name": "python3"
    },
    "language_info": {
      "codemirror_mode": {
        "name": "ipython",
        "version": 3
      },
      "file_extension": ".py",
      "mimetype": "text/x-python",
      "name": "python",
      "nbconvert_exporter": "python",
      "pygments_lexer": "ipython3",
      "version": "3.8.2"
    },
    "colab": {
      "name": "ranked.ipynb",
      "provenance": []
    }
  },
  "cells": [
    {
      "cell_type": "code",
      "metadata": {
        "id": "W87bFfL6m7kz",
        "colab_type": "code",
        "colab": {}
      },
      "source": [
        "import numpy as np"
      ],
      "execution_count": null,
      "outputs": []
    },
    {
      "cell_type": "code",
      "metadata": {
        "id": "Tc7XtQ_pm7k3",
        "colab_type": "code",
        "colab": {}
      },
      "source": [
        "def rank5_accuracy(preds, labels):\n",
        "  rank1 = 0\n",
        "  rank5 = 0\n",
        "    \n",
        "  for (p, gt) in zip(preds, labels):\n",
        "    p = np.argsort(p)[::-1]\n",
        "    if gt in p[:5]:\n",
        "      rank5 += 1\n",
        "        \n",
        "    if gt==p[0]:\n",
        "      rank+=1\n",
        "        \n",
        "  rank1 /= float(len(preds))\n",
        "  rank5 /= float(len(preds))\n",
        "        \n",
        "  return (rank1, rank5)"
      ],
      "execution_count": null,
      "outputs": []
    }
  ]
}