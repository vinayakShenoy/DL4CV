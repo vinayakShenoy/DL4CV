{
 "cells": [
  {
   "cell_type": "code",
   "execution_count": null,
   "metadata": {},
   "outputs": [],
   "source": [
    "from tensorflow.keras.callbacks import BaseLogger\n",
    "import matplotlib.pyplot as plt\n",
    "import numpy as np\n",
    "import json\n",
    "import os"
   ]
  },
  {
   "cell_type": "code",
   "execution_count": null,
   "metadata": {},
   "outputs": [],
   "source": [
    "class TrainingMonitor(BaseLogger):\n",
    "  def __init__(self, figPath, jsonPath=None, startAt=0):\n",
    "    super(TrainingMonitor, self).__init__()\n",
    "    self.figPath = figPath\n",
    "    self.jsonPath = jsonPath\n",
    "    self.startAt = startAt\n",
    "    \n",
    "  def on_train_begin(self, logs={}):\n",
    "    self.H = {}\n",
    "    if self.jsonPath is not None:\n",
    "      if os.path.exists(self.jsonPath):\n",
    "        self.H = json.loads(open(self.jsonPath).read())\n",
    "        if self.startAt > 0:\n",
    "          for k in self.H.keys():\n",
    "            self.H[k] = self.H[k][:self.startAt]\n",
    "\n",
    "  def on_epoch_end(self, epoch, logs={}):\n",
    "    for (k,v) in logs.items():\n",
    "      l = self.H.get(k, [])\n",
    "      l.append(float(v))\n",
    "      self.H[k] = l\n",
    "      if self.jsonPath is not None:\n",
    "        f = open(self.jsonPath, \"w\")\n",
    "        f.write(json.dumps(self.H))\n",
    "        f.close()\n",
    "    \n",
    "      if len(self.H[\"loss\"]) > 1:\n",
    "        N = np.arange(0, len(self.H[\"loss\"]))\n",
    "        plt.style.use(\"ggplot\")\n",
    "        plt.figure()\n",
    "        plt.plot(N, self.H[\"loss\"], label=\"train_loss\")\n",
    "        plt.plot(N, self.H[\"val_loss\"], label=\"val_loss\")\n",
    "        plt.plot(N, self.H[\"accuracy\"], label=\"train_acc\")\n",
    "        plt.plot(N, self.H[\"val_accuracy\"], label=\"val_acc\")\n",
    "        plt.title(\"Training Loss and Accuracy [Epoch {}]\".format(len(self.H[\"loss\"])))\n",
    "        plt.xlabel(\"Epoch #\")\n",
    "        plt.ylabel(\"Loss/Accuracy\")\n",
    "        plt.legend()\n",
    "        \n",
    "        plt.savefig(self.figPath)\n",
    "        plt.close()"
   ]
  }
 ],
 "metadata": {
  "kernelspec": {
   "display_name": "Python 3",
   "language": "python",
   "name": "python3"
  },
  "language_info": {
   "codemirror_mode": {
    "name": "ipython",
    "version": 3
   },
   "file_extension": ".py",
   "mimetype": "text/x-python",
   "name": "python",
   "nbconvert_exporter": "python",
   "pygments_lexer": "ipython3",
   "version": "3.8.2"
  }
 },
 "nbformat": 4,
 "nbformat_minor": 4
}
