{
  "nbformat": 4,
  "nbformat_minor": 0,
  "metadata": {
    "colab": {
      "name": "LeNet_MNIST.ipynb",
      "provenance": [],
      "collapsed_sections": [],
      "authorship_tag": "ABX9TyNgzaMgpE7++j2hm8RVch5q"
    },
    "kernelspec": {
      "name": "python3",
      "display_name": "Python 3"
    },
    "accelerator": "GPU"
  },
  "cells": [
    {
      "cell_type": "code",
      "metadata": {
        "id": "hgR-e1Yd3-gh",
        "colab_type": "code",
        "colab": {
          "base_uri": "https://localhost:8080/",
          "height": 119
        },
        "outputId": "c8ab0586-182e-4a08-f0f0-43f4ec6c0629"
      },
      "source": [
        "!git clone https://github.com/vinayakShenoy/DL4CV.git"
      ],
      "execution_count": 2,
      "outputs": [
        {
          "output_type": "stream",
          "text": [
            "Cloning into 'DL4CV'...\n",
            "remote: Enumerating objects: 21, done.\u001b[K\n",
            "remote: Counting objects:   4% (1/21)\u001b[K\rremote: Counting objects:   9% (2/21)\u001b[K\rremote: Counting objects:  14% (3/21)\u001b[K\rremote: Counting objects:  19% (4/21)\u001b[K\rremote: Counting objects:  23% (5/21)\u001b[K\rremote: Counting objects:  28% (6/21)\u001b[K\rremote: Counting objects:  33% (7/21)\u001b[K\rremote: Counting objects:  38% (8/21)\u001b[K\rremote: Counting objects:  42% (9/21)\u001b[K\rremote: Counting objects:  47% (10/21)\u001b[K\rremote: Counting objects:  52% (11/21)\u001b[K\rremote: Counting objects:  57% (12/21)\u001b[K\rremote: Counting objects:  61% (13/21)\u001b[K\rremote: Counting objects:  66% (14/21)\u001b[K\rremote: Counting objects:  71% (15/21)\u001b[K\rremote: Counting objects:  76% (16/21)\u001b[K\rremote: Counting objects:  80% (17/21)\u001b[K\rremote: Counting objects:  85% (18/21)\u001b[K\rremote: Counting objects:  90% (19/21)\u001b[K\rremote: Counting objects:  95% (20/21)\u001b[K\rremote: Counting objects: 100% (21/21)\u001b[K\rremote: Counting objects: 100% (21/21), done.\u001b[K\n",
            "remote: Compressing objects:   5% (1/17)\u001b[K\rremote: Compressing objects:  11% (2/17)\u001b[K\rremote: Compressing objects:  17% (3/17)\u001b[K\rremote: Compressing objects:  23% (4/17)\u001b[K\rremote: Compressing objects:  29% (5/17)\u001b[K\rremote: Compressing objects:  35% (6/17)\u001b[K\rremote: Compressing objects:  41% (7/17)\u001b[K\rremote: Compressing objects:  47% (8/17)\u001b[K\rremote: Compressing objects:  52% (9/17)\u001b[K\rremote: Compressing objects:  58% (10/17)\u001b[K\rremote: Compressing objects:  64% (11/17)\u001b[K\rremote: Compressing objects:  70% (12/17)\u001b[K\rremote: Compressing objects:  76% (13/17)\u001b[K\rremote: Compressing objects:  82% (14/17)\u001b[K\rremote: Compressing objects:  88% (15/17)\u001b[K\rremote: Compressing objects:  94% (16/17)\u001b[K\rremote: Compressing objects: 100% (17/17)\u001b[K\rremote: Compressing objects: 100% (17/17), done.\u001b[K\n",
            "Unpacking objects:   4% (1/21)   \rUnpacking objects:   9% (2/21)   \rUnpacking objects:  14% (3/21)   \rUnpacking objects:  19% (4/21)   \rUnpacking objects:  23% (5/21)   \rUnpacking objects:  28% (6/21)   \rUnpacking objects:  33% (7/21)   \rUnpacking objects:  38% (8/21)   \rUnpacking objects:  42% (9/21)   \rUnpacking objects:  47% (10/21)   \rUnpacking objects:  52% (11/21)   \rUnpacking objects:  57% (12/21)   \rUnpacking objects:  61% (13/21)   \rUnpacking objects:  66% (14/21)   \rremote: Total 21 (delta 2), reused 17 (delta 1), pack-reused 0\u001b[K\n",
            "Unpacking objects:  71% (15/21)   \rUnpacking objects:  76% (16/21)   \rUnpacking objects:  80% (17/21)   \rUnpacking objects:  85% (18/21)   \rUnpacking objects:  90% (19/21)   \rUnpacking objects:  95% (20/21)   \rUnpacking objects: 100% (21/21)   \rUnpacking objects: 100% (21/21), done.\n"
          ],
          "name": "stdout"
        }
      ]
    },
    {
      "cell_type": "code",
      "metadata": {
        "id": "GR4mQOw00jZc",
        "colab_type": "code",
        "colab": {
          "base_uri": "https://localhost:8080/",
          "height": 34
        },
        "outputId": "bfaafb46-9521-40fd-f189-d5e285620129"
      },
      "source": [
        "%cd DL4CV/Code/"
      ],
      "execution_count": 3,
      "outputs": [
        {
          "output_type": "stream",
          "text": [
            "/content/DL4CV/Code\n"
          ],
          "name": "stdout"
        }
      ]
    },
    {
      "cell_type": "code",
      "metadata": {
        "id": "IBLSenXV4H_C",
        "colab_type": "code",
        "colab": {
          "base_uri": "https://localhost:8080/",
          "height": 170
        },
        "outputId": "30cbbe7e-5e4b-44b0-d126-162dd3c27cbd"
      },
      "source": [
        "!pip install import_ipynb"
      ],
      "execution_count": 6,
      "outputs": [
        {
          "output_type": "stream",
          "text": [
            "Collecting import_ipynb\n",
            "  Downloading https://files.pythonhosted.org/packages/63/35/495e0021bfdcc924c7cdec4e9fbb87c88dd03b9b9b22419444dc370c8a45/import-ipynb-0.1.3.tar.gz\n",
            "Building wheels for collected packages: import-ipynb\n",
            "  Building wheel for import-ipynb (setup.py) ... \u001b[?25l\u001b[?25hdone\n",
            "  Created wheel for import-ipynb: filename=import_ipynb-0.1.3-cp36-none-any.whl size=2976 sha256=54db078530ead593c0017fcc123863a795f958e688cfe4354bfa85b1f480cffd\n",
            "  Stored in directory: /root/.cache/pip/wheels/b4/7b/e9/a3a6e496115dffdb4e3085d0ae39ffe8a814eacc44bbf494b5\n",
            "Successfully built import-ipynb\n",
            "Installing collected packages: import-ipynb\n",
            "Successfully installed import-ipynb-0.1.3\n"
          ],
          "name": "stdout"
        }
      ]
    },
    {
      "cell_type": "code",
      "metadata": {
        "id": "nmJLTz5dydtA",
        "colab_type": "code",
        "colab": {}
      },
      "source": [
        "import import_ipynb\n",
        "from LeNet import LeNet\n",
        "from tensorflow.keras.optimizers import SGD\n",
        "from tensorflow.keras.datasets import mnist\n",
        "from sklearn.preprocessing import LabelBinarizer\n",
        "from sklearn.metrics import classification_report\n",
        "from tensorflow.keras import backend as K\n",
        "import matplotlib.pyplot as plt\n",
        "import numpy as np"
      ],
      "execution_count": 13,
      "outputs": []
    },
    {
      "cell_type": "code",
      "metadata": {
        "id": "PMMXaW9n269D",
        "colab_type": "code",
        "colab": {
          "base_uri": "https://localhost:8080/",
          "height": 68
        },
        "outputId": "49791d9f-3a96-4caa-a868-8bc62e9d0c03"
      },
      "source": [
        "print(\"INFO accessing MNIST\")\n",
        "((trainX, trainY), (testX, testY)) = mnist.load_data()\n",
        "\n",
        "if K.image_data_format()==\"channels_first\":\n",
        "    trainX = trainX.reshape((trainX.shape[0], 1, 28, 28))\n",
        "    testX = testX.reshape((testX.shape[0], 1, 28, 28))\n",
        "else:\n",
        "    trainX = trainX.reshape((trainX.shape[0], 28, 28, 1))\n",
        "    testX = testX.reshape((testX.shape[0], 28, 28, 1))"
      ],
      "execution_count": 8,
      "outputs": [
        {
          "output_type": "stream",
          "text": [
            "INFO accessing MNIST\n",
            "Downloading data from https://storage.googleapis.com/tensorflow/tf-keras-datasets/mnist.npz\n",
            "11493376/11490434 [==============================] - 0s 0us/step\n"
          ],
          "name": "stdout"
        }
      ]
    },
    {
      "cell_type": "code",
      "metadata": {
        "id": "MnAE5O5o3hNm",
        "colab_type": "code",
        "colab": {}
      },
      "source": [
        "trainX = trainX.astype(\"float32\")/255.0\n",
        "testX = testX.astype(\"float32\")/255.0\n",
        "le = LabelBinarizer()\n",
        "trainY = le.fit_transform(trainY)\n",
        "testY = le.fit_transform(testY)"
      ],
      "execution_count": 9,
      "outputs": []
    },
    {
      "cell_type": "code",
      "metadata": {
        "id": "ctHNUW3b3jkr",
        "colab_type": "code",
        "colab": {
          "base_uri": "https://localhost:8080/",
          "height": 731
        },
        "outputId": "3f324ce5-07f6-4615-8177-9f1a3301e360"
      },
      "source": [
        "print(\"INFO compiling model\")\n",
        "model = LeNet.build(width=28, height=28, depth=1, classes=10)\n",
        "model.compile(loss=\"categorical_crossentropy\", optimizer=SGD(lr=0.01),\n",
        "             metrics=[\"accuracy\"])\n",
        "\n",
        "print(\"INFO training network\")\n",
        "H = model.fit(trainX, trainY, validation_data=(testX, testY), batch_size=128, \n",
        "             epochs=20, verbose=1)"
      ],
      "execution_count": 10,
      "outputs": [
        {
          "output_type": "stream",
          "text": [
            "INFO compiling model\n",
            "INFO training network\n",
            "Epoch 1/20\n",
            "469/469 [==============================] - 19s 39ms/step - loss: 0.4446 - accuracy: 0.8710 - val_loss: 0.1594 - val_accuracy: 0.9518\n",
            "Epoch 2/20\n",
            "469/469 [==============================] - 18s 39ms/step - loss: 0.1142 - accuracy: 0.9663 - val_loss: 0.0820 - val_accuracy: 0.9746\n",
            "Epoch 3/20\n",
            "469/469 [==============================] - 18s 39ms/step - loss: 0.0745 - accuracy: 0.9776 - val_loss: 0.0917 - val_accuracy: 0.9696\n",
            "Epoch 4/20\n",
            "469/469 [==============================] - 18s 39ms/step - loss: 0.0557 - accuracy: 0.9832 - val_loss: 0.0561 - val_accuracy: 0.9817\n",
            "Epoch 5/20\n",
            "469/469 [==============================] - 18s 39ms/step - loss: 0.0434 - accuracy: 0.9863 - val_loss: 0.0650 - val_accuracy: 0.9792\n",
            "Epoch 6/20\n",
            "469/469 [==============================] - 18s 39ms/step - loss: 0.0343 - accuracy: 0.9895 - val_loss: 0.0482 - val_accuracy: 0.9850\n",
            "Epoch 7/20\n",
            "469/469 [==============================] - 18s 39ms/step - loss: 0.0275 - accuracy: 0.9915 - val_loss: 0.0417 - val_accuracy: 0.9869\n",
            "Epoch 8/20\n",
            "469/469 [==============================] - 18s 39ms/step - loss: 0.0229 - accuracy: 0.9929 - val_loss: 0.0448 - val_accuracy: 0.9867\n",
            "Epoch 9/20\n",
            "469/469 [==============================] - 18s 39ms/step - loss: 0.0177 - accuracy: 0.9947 - val_loss: 0.0395 - val_accuracy: 0.9866\n",
            "Epoch 10/20\n",
            "469/469 [==============================] - 19s 40ms/step - loss: 0.0146 - accuracy: 0.9956 - val_loss: 0.0466 - val_accuracy: 0.9857\n",
            "Epoch 11/20\n",
            "469/469 [==============================] - 19s 40ms/step - loss: 0.0125 - accuracy: 0.9962 - val_loss: 0.0497 - val_accuracy: 0.9856\n",
            "Epoch 12/20\n",
            "469/469 [==============================] - 18s 39ms/step - loss: 0.0095 - accuracy: 0.9974 - val_loss: 0.0515 - val_accuracy: 0.9862\n",
            "Epoch 13/20\n",
            "469/469 [==============================] - 18s 39ms/step - loss: 0.0079 - accuracy: 0.9978 - val_loss: 0.0461 - val_accuracy: 0.9871\n",
            "Epoch 14/20\n",
            "469/469 [==============================] - 18s 39ms/step - loss: 0.0065 - accuracy: 0.9981 - val_loss: 0.0462 - val_accuracy: 0.9871\n",
            "Epoch 15/20\n",
            "469/469 [==============================] - 18s 39ms/step - loss: 0.0056 - accuracy: 0.9984 - val_loss: 0.0473 - val_accuracy: 0.9873\n",
            "Epoch 16/20\n",
            "469/469 [==============================] - 18s 39ms/step - loss: 0.0052 - accuracy: 0.9988 - val_loss: 0.0475 - val_accuracy: 0.9862\n",
            "Epoch 17/20\n",
            "469/469 [==============================] - 18s 39ms/step - loss: 0.0035 - accuracy: 0.9990 - val_loss: 0.0454 - val_accuracy: 0.9871\n",
            "Epoch 18/20\n",
            "469/469 [==============================] - 18s 39ms/step - loss: 0.0025 - accuracy: 0.9993 - val_loss: 0.0494 - val_accuracy: 0.9868\n",
            "Epoch 19/20\n",
            "469/469 [==============================] - 18s 39ms/step - loss: 0.0019 - accuracy: 0.9996 - val_loss: 0.0513 - val_accuracy: 0.9871\n",
            "Epoch 20/20\n",
            "469/469 [==============================] - 18s 39ms/step - loss: 0.0015 - accuracy: 0.9998 - val_loss: 0.0492 - val_accuracy: 0.9875\n"
          ],
          "name": "stdout"
        }
      ]
    },
    {
      "cell_type": "code",
      "metadata": {
        "id": "jvZQatMC3ofO",
        "colab_type": "code",
        "colab": {
          "base_uri": "https://localhost:8080/",
          "height": 323
        },
        "outputId": "91a7e3fc-236c-4f57-a5b4-46581c31600d"
      },
      "source": [
        "print(\"INFO evaluating network...\")\n",
        "predictions = model.predict(testX, batch_size=128)\n",
        "print(classification_report(testY.argmax(axis=1), predictions.argmax(axis=1),\n",
        "                           target_names=[str(x) for x in le.classes_]))"
      ],
      "execution_count": 11,
      "outputs": [
        {
          "output_type": "stream",
          "text": [
            "INFO evaluating network...\n",
            "              precision    recall  f1-score   support\n",
            "\n",
            "           0       0.99      0.99      0.99       980\n",
            "           1       1.00      0.99      1.00      1135\n",
            "           2       0.99      0.99      0.99      1032\n",
            "           3       0.99      0.99      0.99      1010\n",
            "           4       0.99      0.99      0.99       982\n",
            "           5       0.99      0.99      0.99       892\n",
            "           6       0.99      0.99      0.99       958\n",
            "           7       0.99      0.99      0.99      1028\n",
            "           8       0.98      0.98      0.98       974\n",
            "           9       0.98      0.98      0.98      1009\n",
            "\n",
            "    accuracy                           0.99     10000\n",
            "   macro avg       0.99      0.99      0.99     10000\n",
            "weighted avg       0.99      0.99      0.99     10000\n",
            "\n"
          ],
          "name": "stdout"
        }
      ]
    },
    {
      "cell_type": "code",
      "metadata": {
        "id": "kzo2CHoj3s9O",
        "colab_type": "code",
        "colab": {
          "base_uri": "https://localhost:8080/",
          "height": 299
        },
        "outputId": "7e0bae68-523f-4135-dac3-aeca35978f9b"
      },
      "source": [
        "plt.style.use(\"ggplot\")\n",
        "plt.figure()\n",
        "plt.plot(np.arange(0, 20), H.history[\"loss\"], label=\"train_loss\")\n",
        "plt.plot(np.arange(0, 20), H.history[\"val_loss\"], label=\"val_loss\")\n",
        "plt.plot(np.arange(0, 20), H.history[\"accuracy\"], label=\"train_acc\")\n",
        "plt.plot(np.arange(0, 20), H.history[\"val_accuracy\"], label=\"val_acc\")\n",
        "plt.title(\"Training Loss and Accuracy\")\n",
        "plt.xlabel(\"Epoch #\")\n",
        "plt.ylabel(\"Loss/Accuracy\")\n",
        "plt.legend()\n",
        "plt.show()"
      ],
      "execution_count": 14,
      "outputs": [
        {
          "output_type": "display_data",
          "data": {
            "image/png": "[encoded data removed]",
            "text/plain": [
              "<Figure size 432x288 with 1 Axes>"
            ]
          },
          "metadata": {
            "tags": []
          }
        }
      ]
    },
    {
      "cell_type": "code",
      "metadata": {
        "id": "RX3Fd16Z7_-Z",
        "colab_type": "code",
        "colab": {}
      },
      "source": [
        ""
      ],
      "execution_count": null,
      "outputs": []
    }
  ]
}