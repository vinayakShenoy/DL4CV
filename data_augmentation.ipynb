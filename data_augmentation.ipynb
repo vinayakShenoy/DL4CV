{
 "cells": [
  {
   "cell_type": "markdown",
   "metadata": {
    "colab_type": "text",
    "id": "view-in-github"
   },
   "source": [
    "<a href=\"https://colab.research.google.com/github/vinayakShenoy/DL4CV/blob/master/Code/data_augmentation.ipynb\" target=\"_parent\"><img src=\"https://colab.research.google.com/assets/colab-badge.svg\" alt=\"Open In Colab\"/></a>"
   ]
  },
  {
   "cell_type": "markdown",
   "metadata": {
    "colab_type": "text",
    "id": "3OXmohYz8wKw"
   },
   "source": [
    "# Data Augmentation\n",
    "- Any modification we make to a learning algorithm that is intended to reduce generalization error, but not its training error is called regularization.\n",
    "- In starter bundle we learned L1 and L2 regularization.\n",
    "- There exist other types of regularization that either:\n",
    "  - Modify the network architecture itself\n",
    "  - Augment the data passed into the network for training.\n",
    "- Dropout is an example of modifying a network where a layer randomly disconnects nodes from previous layer to the next layer, thereby ensuring that no single node is responsible for learning how to represent a given class.\n",
    "- Data augmentation encompasses a wide range of techniques used to generate new training samples from the original ones by applying random jitters and perturbations such that the classes labels are\n",
    "not changed.\n",
    "- We can obtain additional training data from the original images by apply simple geometric transforms such as random:\n",
    "  - Translations\n",
    "  - Rotations\n",
    "  - Changes in scale\n",
    "  - Shearing \n",
    "  - Horizontal flips\n",
    "  - Random perturbations of colors in a given color space\n",
    "  - Nonlinear geometric distortions\n",
    "\n"
   ]
  },
  {
   "cell_type": "code",
   "execution_count": null,
   "metadata": {
    "colab": {},
    "colab_type": "code",
    "id": "rZ_orK2dRJhH"
   },
   "outputs": [],
   "source": [
    "!pip install imutils\n",
    "!pip install import_ipynb\n",
    "!git clone https://github.com/vinayakshenoy/DL4CV\n",
    "%cd DL4CV/Code\n",
    "!wget http://www.robots.ox.ac.uk/~vgg/data/flowers/17/17flowers.tgz\n",
    "!tar -xvzf 17flowers.tgz"
   ]
  },
  {
   "cell_type": "code",
   "execution_count": 2,
   "metadata": {
    "colab": {
     "base_uri": "https://localhost:8080/",
     "height": 68
    },
    "colab_type": "code",
    "id": "5ANvKgwd72BL",
    "outputId": "67365478-1a9c-4402-c2dc-e4657cc8e06a"
   },
   "outputs": [
    {
     "name": "stdout",
     "output_type": "stream",
     "text": [
      "/content/DL4CV/Code\n",
      "importing Jupyter notebook from /content/DL4CV/Code/nn/MiniVGGNet.ipynb\n",
      "importing Jupyter notebook from /content/DL4CV/Code/preprocessing/preprocessors.ipynb\n"
     ]
    }
   ],
   "source": [
    "from sklearn.preprocessing import LabelBinarizer\n",
    "from sklearn.model_selection import train_test_split\n",
    "from sklearn.metrics import classification_report\n",
    "from tensorflow.keras.optimizers import SGD\n",
    "from imutils import paths\n",
    "import matplotlib.pyplot as plt\n",
    "import numpy as np\n",
    "import os\n",
    "import import_ipynb\n",
    "import cv2\n",
    "import imutils\n",
    "from nn.MiniVGGNet import MiniVGGNet\n",
    "from preprocessing.preprocessors import ImageToArrayPreprocessor, AspectAwarePreprocessor\n",
    "import shutil"
   ]
  },
  {
   "cell_type": "code",
   "execution_count": 3,
   "metadata": {
    "colab": {},
    "colab_type": "code",
    "id": "ITL7vf7UPTCi"
   },
   "outputs": [],
   "source": [
    "args = {\n",
    "    \"dataset\":\"jpg\",\n",
    "}"
   ]
  },
  {
   "cell_type": "markdown",
   "metadata": {
    "colab_type": "text",
    "id": "Wxx6OZuEAtYg"
   },
   "source": [
    "# Processing Data"
   ]
  },
  {
   "cell_type": "code",
   "execution_count": 4,
   "metadata": {
    "colab": {},
    "colab_type": "code",
    "id": "jyA9PtiePWCt"
   },
   "outputs": [],
   "source": [
    "imagePaths = list(paths.list_images(args[\"dataset\"]))\n",
    "imagePaths = sorted(imagePaths, key=lambda x: int(x.split(\"_\")[1].split(\".\")[0]))"
   ]
  },
  {
   "cell_type": "code",
   "execution_count": 5,
   "metadata": {
    "colab": {},
    "colab_type": "code",
    "id": "FzWol0Hk5Mgu"
   },
   "outputs": [],
   "source": [
    "aap = AspectAwarePreprocessor(64, 64)\n",
    "iap = ImageToArrayPreprocessor()\n",
    "preprocessors = [aap, iap]\n",
    "\n",
    "data = []\n",
    "labels = []\n",
    "label = 0\n",
    "for (i,imagePath) in enumerate(imagePaths):\n",
    "  img = cv2.imread(imagePath)\n",
    "  for p in preprocessors:\n",
    "    img = p.preprocess(img)\n",
    "  data.append(img)\n",
    "  labels.append(label)\n",
    "  if i>0 and i%80==0:\n",
    "    label += 1\n",
    "\n",
    "(data, labels) = (np.array(data).astype(\"float\")/255.0, np.array(labels))"
   ]
  },
  {
   "cell_type": "code",
   "execution_count": 106,
   "metadata": {
    "colab": {
     "base_uri": "https://localhost:8080/",
     "height": 34
    },
    "colab_type": "code",
    "id": "JMMzxeUS_Vrh",
    "outputId": "d4669570-457d-4e91-bc20-859c1bcd9d36"
   },
   "outputs": [
    {
     "name": "stdout",
     "output_type": "stream",
     "text": [
      "[ 0  0  0 ... 16 16 16]\n"
     ]
    }
   ],
   "source": [
    "print(labels)"
   ]
  },
  {
   "cell_type": "code",
   "execution_count": 6,
   "metadata": {
    "colab": {},
    "colab_type": "code",
    "id": "8MlWL3lPQDC-"
   },
   "outputs": [],
   "source": [
    "(trainX, testX, trainY, testY) = train_test_split(data, labels, test_size=0.25, random_state=42)\n",
    "\n",
    "trainY = LabelBinarizer().fit_transform(trainY)\n",
    "testY = LabelBinarizer().fit_transform(testY)"
   ]
  },
  {
   "cell_type": "code",
   "execution_count": 7,
   "metadata": {
    "colab": {
     "base_uri": "https://localhost:8080/",
     "height": 85
    },
    "colab_type": "code",
    "id": "GEu1ZNvcQvae",
    "outputId": "27bc83ec-8ee3-4203-f64a-61d5b72b89f5"
   },
   "outputs": [
    {
     "name": "stdout",
     "output_type": "stream",
     "text": [
      "(1020, 64, 64, 3)\n",
      "(340, 64, 64, 3)\n",
      "(1020, 17)\n",
      "(340, 17)\n"
     ]
    }
   ],
   "source": [
    "print(trainX.shape)\n",
    "print(testX.shape)\n",
    "print(trainY.shape)\n",
    "print(testY.shape)"
   ]
  },
  {
   "cell_type": "markdown",
   "metadata": {
    "colab_type": "text",
    "id": "Ww1UDZRkAZkg"
   },
   "source": [
    "***\n",
    "# Without Data Augmentation"
   ]
  },
  {
   "cell_type": "code",
   "execution_count": 8,
   "metadata": {
    "colab": {
     "base_uri": "https://localhost:8080/",
     "height": 1000
    },
    "colab_type": "code",
    "id": "OQIXbp-1ivsV",
    "outputId": "2d53f0ff-0397-4014-efce-c7c74a505daa"
   },
   "outputs": [
    {
     "name": "stdout",
     "output_type": "stream",
     "text": [
      "INFO compiling model\n",
      "INFO training network\n",
      "Epoch 1/100\n",
      "32/32 [==============================] - 2s 51ms/step - loss: 3.2151 - accuracy: 0.2363 - val_loss: 3.5479 - val_accuracy: 0.1735\n",
      "Epoch 2/100\n",
      "32/32 [==============================] - 1s 31ms/step - loss: 1.8518 - accuracy: 0.4686 - val_loss: 2.4543 - val_accuracy: 0.2353\n",
      "Epoch 3/100\n",
      "32/32 [==============================] - 1s 30ms/step - loss: 1.2704 - accuracy: 0.6059 - val_loss: 2.4652 - val_accuracy: 0.2676\n",
      "Epoch 4/100\n",
      "32/32 [==============================] - 1s 30ms/step - loss: 1.0141 - accuracy: 0.6853 - val_loss: 2.8508 - val_accuracy: 0.2059\n",
      "Epoch 5/100\n",
      "32/32 [==============================] - 1s 31ms/step - loss: 0.7496 - accuracy: 0.7598 - val_loss: 2.9767 - val_accuracy: 0.2176\n",
      "Epoch 6/100\n",
      "32/32 [==============================] - 1s 31ms/step - loss: 0.5586 - accuracy: 0.8343 - val_loss: 2.1530 - val_accuracy: 0.3882\n",
      "Epoch 7/100\n",
      "32/32 [==============================] - 1s 30ms/step - loss: 0.3630 - accuracy: 0.8824 - val_loss: 2.7109 - val_accuracy: 0.3029\n",
      "Epoch 8/100\n",
      "32/32 [==============================] - 1s 31ms/step - loss: 0.2931 - accuracy: 0.9039 - val_loss: 2.3919 - val_accuracy: 0.3647\n",
      "Epoch 9/100\n",
      "32/32 [==============================] - 1s 30ms/step - loss: 0.1874 - accuracy: 0.9422 - val_loss: 1.9597 - val_accuracy: 0.4265\n",
      "Epoch 10/100\n",
      "32/32 [==============================] - 1s 30ms/step - loss: 0.1410 - accuracy: 0.9647 - val_loss: 1.9146 - val_accuracy: 0.4588\n",
      "Epoch 11/100\n",
      "32/32 [==============================] - 1s 31ms/step - loss: 0.1298 - accuracy: 0.9627 - val_loss: 1.8409 - val_accuracy: 0.4735\n",
      "Epoch 12/100\n",
      "32/32 [==============================] - 1s 30ms/step - loss: 0.0993 - accuracy: 0.9735 - val_loss: 2.0321 - val_accuracy: 0.4647\n",
      "Epoch 13/100\n",
      "32/32 [==============================] - 1s 30ms/step - loss: 0.0837 - accuracy: 0.9804 - val_loss: 1.8649 - val_accuracy: 0.5118\n",
      "Epoch 14/100\n",
      "32/32 [==============================] - 1s 30ms/step - loss: 0.0722 - accuracy: 0.9794 - val_loss: 1.8170 - val_accuracy: 0.5618\n",
      "Epoch 15/100\n",
      "32/32 [==============================] - 1s 30ms/step - loss: 0.0393 - accuracy: 0.9941 - val_loss: 2.0501 - val_accuracy: 0.5559\n",
      "Epoch 16/100\n",
      "32/32 [==============================] - 1s 30ms/step - loss: 0.0386 - accuracy: 0.9912 - val_loss: 1.9157 - val_accuracy: 0.5441\n",
      "Epoch 17/100\n",
      "32/32 [==============================] - 1s 30ms/step - loss: 0.0353 - accuracy: 0.9931 - val_loss: 1.9682 - val_accuracy: 0.5529\n",
      "Epoch 18/100\n",
      "32/32 [==============================] - 1s 29ms/step - loss: 0.0349 - accuracy: 0.9912 - val_loss: 2.0509 - val_accuracy: 0.5382\n",
      "Epoch 19/100\n",
      "32/32 [==============================] - 1s 30ms/step - loss: 0.0266 - accuracy: 0.9951 - val_loss: 2.0019 - val_accuracy: 0.5529\n",
      "Epoch 20/100\n",
      "32/32 [==============================] - 1s 30ms/step - loss: 0.0273 - accuracy: 0.9951 - val_loss: 1.9633 - val_accuracy: 0.5706\n",
      "Epoch 21/100\n",
      "32/32 [==============================] - 1s 30ms/step - loss: 0.0312 - accuracy: 0.9951 - val_loss: 2.0136 - val_accuracy: 0.5618\n",
      "Epoch 22/100\n",
      "32/32 [==============================] - 1s 30ms/step - loss: 0.0252 - accuracy: 0.9961 - val_loss: 2.1309 - val_accuracy: 0.5471\n",
      "Epoch 23/100\n",
      "32/32 [==============================] - 1s 30ms/step - loss: 0.0224 - accuracy: 0.9971 - val_loss: 2.0196 - val_accuracy: 0.5618\n",
      "Epoch 24/100\n",
      "32/32 [==============================] - 1s 30ms/step - loss: 0.0244 - accuracy: 0.9980 - val_loss: 2.0427 - val_accuracy: 0.5588\n",
      "Epoch 25/100\n",
      "32/32 [==============================] - 1s 30ms/step - loss: 0.0175 - accuracy: 0.9990 - val_loss: 2.0602 - val_accuracy: 0.5500\n",
      "Epoch 26/100\n",
      "32/32 [==============================] - 1s 29ms/step - loss: 0.0216 - accuracy: 0.9971 - val_loss: 2.0981 - val_accuracy: 0.5441\n",
      "Epoch 27/100\n",
      "32/32 [==============================] - 1s 30ms/step - loss: 0.0146 - accuracy: 0.9980 - val_loss: 2.0855 - val_accuracy: 0.5706\n",
      "Epoch 28/100\n",
      "32/32 [==============================] - 1s 29ms/step - loss: 0.0209 - accuracy: 0.9971 - val_loss: 2.2560 - val_accuracy: 0.5706\n",
      "Epoch 29/100\n",
      "32/32 [==============================] - 1s 30ms/step - loss: 0.0156 - accuracy: 0.9990 - val_loss: 2.2897 - val_accuracy: 0.5647\n",
      "Epoch 30/100\n",
      "32/32 [==============================] - 1s 30ms/step - loss: 0.0131 - accuracy: 0.9980 - val_loss: 2.2277 - val_accuracy: 0.5588\n",
      "Epoch 31/100\n",
      "32/32 [==============================] - 1s 30ms/step - loss: 0.0123 - accuracy: 0.9990 - val_loss: 2.2486 - val_accuracy: 0.5382\n",
      "Epoch 32/100\n",
      "32/32 [==============================] - 1s 30ms/step - loss: 0.0117 - accuracy: 1.0000 - val_loss: 2.2298 - val_accuracy: 0.5529\n",
      "Epoch 33/100\n",
      "32/32 [==============================] - 1s 30ms/step - loss: 0.0108 - accuracy: 0.9990 - val_loss: 2.1920 - val_accuracy: 0.5647\n",
      "Epoch 34/100\n",
      "32/32 [==============================] - 1s 29ms/step - loss: 0.0160 - accuracy: 0.9951 - val_loss: 2.0797 - val_accuracy: 0.5588\n",
      "Epoch 35/100\n",
      "32/32 [==============================] - 1s 30ms/step - loss: 0.0080 - accuracy: 1.0000 - val_loss: 2.1338 - val_accuracy: 0.5588\n",
      "Epoch 36/100\n",
      "32/32 [==============================] - 1s 30ms/step - loss: 0.0126 - accuracy: 0.9971 - val_loss: 2.1603 - val_accuracy: 0.5647\n",
      "Epoch 37/100\n",
      "32/32 [==============================] - 1s 30ms/step - loss: 0.0134 - accuracy: 0.9980 - val_loss: 2.2428 - val_accuracy: 0.5706\n",
      "Epoch 38/100\n",
      "32/32 [==============================] - 1s 30ms/step - loss: 0.0126 - accuracy: 0.9980 - val_loss: 2.2710 - val_accuracy: 0.5500\n",
      "Epoch 39/100\n",
      "32/32 [==============================] - 1s 30ms/step - loss: 0.0109 - accuracy: 0.9990 - val_loss: 2.1274 - val_accuracy: 0.5735\n",
      "Epoch 40/100\n",
      "32/32 [==============================] - 1s 30ms/step - loss: 0.0116 - accuracy: 0.9990 - val_loss: 2.1394 - val_accuracy: 0.5765\n",
      "Epoch 41/100\n",
      "32/32 [==============================] - 1s 29ms/step - loss: 0.0094 - accuracy: 1.0000 - val_loss: 2.1104 - val_accuracy: 0.5706\n",
      "Epoch 42/100\n",
      "32/32 [==============================] - 1s 30ms/step - loss: 0.0139 - accuracy: 0.9961 - val_loss: 2.1041 - val_accuracy: 0.5676\n",
      "Epoch 43/100\n",
      "32/32 [==============================] - 1s 30ms/step - loss: 0.0065 - accuracy: 1.0000 - val_loss: 2.1595 - val_accuracy: 0.5676\n",
      "Epoch 44/100\n",
      "32/32 [==============================] - 1s 30ms/step - loss: 0.0088 - accuracy: 0.9990 - val_loss: 2.2190 - val_accuracy: 0.5588\n",
      "Epoch 45/100\n",
      "32/32 [==============================] - 1s 30ms/step - loss: 0.0069 - accuracy: 0.9990 - val_loss: 2.2094 - val_accuracy: 0.5588\n",
      "Epoch 46/100\n",
      "32/32 [==============================] - 1s 30ms/step - loss: 0.0126 - accuracy: 0.9971 - val_loss: 2.1887 - val_accuracy: 0.5559\n",
      "Epoch 47/100\n",
      "32/32 [==============================] - 1s 30ms/step - loss: 0.0110 - accuracy: 0.9951 - val_loss: 2.2276 - val_accuracy: 0.5706\n",
      "Epoch 48/100\n",
      "32/32 [==============================] - 1s 30ms/step - loss: 0.0104 - accuracy: 1.0000 - val_loss: 2.3075 - val_accuracy: 0.5676\n",
      "Epoch 49/100\n",
      "32/32 [==============================] - 1s 30ms/step - loss: 0.0060 - accuracy: 0.9990 - val_loss: 2.2493 - val_accuracy: 0.5735\n",
      "Epoch 50/100\n",
      "32/32 [==============================] - 1s 30ms/step - loss: 0.0067 - accuracy: 0.9990 - val_loss: 2.1890 - val_accuracy: 0.5706\n",
      "Epoch 51/100\n",
      "32/32 [==============================] - 1s 30ms/step - loss: 0.0045 - accuracy: 1.0000 - val_loss: 2.1781 - val_accuracy: 0.5676\n",
      "Epoch 52/100\n",
      "32/32 [==============================] - 1s 30ms/step - loss: 0.0060 - accuracy: 1.0000 - val_loss: 2.2844 - val_accuracy: 0.5706\n",
      "Epoch 53/100\n",
      "32/32 [==============================] - 1s 30ms/step - loss: 0.0053 - accuracy: 1.0000 - val_loss: 2.2741 - val_accuracy: 0.5618\n",
      "Epoch 54/100\n",
      "32/32 [==============================] - 1s 30ms/step - loss: 0.0045 - accuracy: 1.0000 - val_loss: 2.2369 - val_accuracy: 0.5706\n",
      "Epoch 55/100\n",
      "32/32 [==============================] - 1s 30ms/step - loss: 0.0052 - accuracy: 1.0000 - val_loss: 2.2244 - val_accuracy: 0.5765\n",
      "Epoch 56/100\n",
      "32/32 [==============================] - 1s 30ms/step - loss: 0.0069 - accuracy: 1.0000 - val_loss: 2.2164 - val_accuracy: 0.5706\n",
      "Epoch 57/100\n",
      "32/32 [==============================] - 1s 31ms/step - loss: 0.0061 - accuracy: 1.0000 - val_loss: 2.2390 - val_accuracy: 0.5647\n",
      "Epoch 58/100\n",
      "32/32 [==============================] - 1s 31ms/step - loss: 0.0042 - accuracy: 1.0000 - val_loss: 2.2320 - val_accuracy: 0.5706\n",
      "Epoch 59/100\n",
      "32/32 [==============================] - 1s 31ms/step - loss: 0.0067 - accuracy: 0.9990 - val_loss: 2.4077 - val_accuracy: 0.5471\n",
      "Epoch 60/100\n",
      "32/32 [==============================] - 1s 31ms/step - loss: 0.0076 - accuracy: 0.9980 - val_loss: 2.4553 - val_accuracy: 0.5294\n",
      "Epoch 61/100\n",
      "32/32 [==============================] - 1s 31ms/step - loss: 0.0077 - accuracy: 0.9971 - val_loss: 2.3249 - val_accuracy: 0.5559\n",
      "Epoch 62/100\n",
      "32/32 [==============================] - 1s 31ms/step - loss: 0.0107 - accuracy: 0.9961 - val_loss: 2.2790 - val_accuracy: 0.5706\n",
      "Epoch 63/100\n",
      "32/32 [==============================] - 1s 31ms/step - loss: 0.0039 - accuracy: 1.0000 - val_loss: 2.2151 - val_accuracy: 0.5824\n",
      "Epoch 64/100\n",
      "32/32 [==============================] - 1s 31ms/step - loss: 0.0037 - accuracy: 1.0000 - val_loss: 2.2289 - val_accuracy: 0.5882\n",
      "Epoch 65/100\n",
      "32/32 [==============================] - 1s 31ms/step - loss: 0.0037 - accuracy: 1.0000 - val_loss: 2.2342 - val_accuracy: 0.5853\n",
      "Epoch 66/100\n",
      "32/32 [==============================] - 1s 31ms/step - loss: 0.0036 - accuracy: 1.0000 - val_loss: 2.2403 - val_accuracy: 0.5794\n",
      "Epoch 67/100\n",
      "32/32 [==============================] - 1s 30ms/step - loss: 0.0063 - accuracy: 0.9990 - val_loss: 2.2977 - val_accuracy: 0.5676\n",
      "Epoch 68/100\n",
      "32/32 [==============================] - 1s 30ms/step - loss: 0.0052 - accuracy: 0.9990 - val_loss: 2.2357 - val_accuracy: 0.5735\n",
      "Epoch 69/100\n",
      "32/32 [==============================] - 1s 30ms/step - loss: 0.0047 - accuracy: 1.0000 - val_loss: 2.2924 - val_accuracy: 0.5647\n",
      "Epoch 70/100\n",
      "32/32 [==============================] - 1s 29ms/step - loss: 0.0042 - accuracy: 1.0000 - val_loss: 2.2862 - val_accuracy: 0.5676\n",
      "Epoch 71/100\n",
      "32/32 [==============================] - 1s 30ms/step - loss: 0.0078 - accuracy: 0.9980 - val_loss: 2.3642 - val_accuracy: 0.5676\n",
      "Epoch 72/100\n",
      "32/32 [==============================] - 1s 30ms/step - loss: 0.0040 - accuracy: 1.0000 - val_loss: 2.2411 - val_accuracy: 0.5676\n",
      "Epoch 73/100\n",
      "32/32 [==============================] - 1s 30ms/step - loss: 0.0070 - accuracy: 0.9990 - val_loss: 2.2850 - val_accuracy: 0.5735\n",
      "Epoch 74/100\n",
      "32/32 [==============================] - 1s 30ms/step - loss: 0.0039 - accuracy: 1.0000 - val_loss: 2.2212 - val_accuracy: 0.5794\n",
      "Epoch 75/100\n",
      "32/32 [==============================] - 1s 30ms/step - loss: 0.0057 - accuracy: 0.9990 - val_loss: 2.2698 - val_accuracy: 0.5794\n",
      "Epoch 76/100\n",
      "32/32 [==============================] - 1s 30ms/step - loss: 0.0036 - accuracy: 1.0000 - val_loss: 2.2017 - val_accuracy: 0.5794\n",
      "Epoch 77/100\n",
      "32/32 [==============================] - 1s 30ms/step - loss: 0.0030 - accuracy: 1.0000 - val_loss: 2.2336 - val_accuracy: 0.5882\n",
      "Epoch 78/100\n",
      "32/32 [==============================] - 1s 30ms/step - loss: 0.0034 - accuracy: 1.0000 - val_loss: 2.3249 - val_accuracy: 0.5765\n",
      "Epoch 79/100\n",
      "32/32 [==============================] - 1s 30ms/step - loss: 0.0037 - accuracy: 1.0000 - val_loss: 2.3373 - val_accuracy: 0.5706\n",
      "Epoch 80/100\n",
      "32/32 [==============================] - 1s 29ms/step - loss: 0.0034 - accuracy: 1.0000 - val_loss: 2.3535 - val_accuracy: 0.5735\n",
      "Epoch 81/100\n",
      "32/32 [==============================] - 1s 29ms/step - loss: 0.0036 - accuracy: 0.9990 - val_loss: 2.3221 - val_accuracy: 0.5765\n",
      "Epoch 82/100\n",
      "32/32 [==============================] - 1s 30ms/step - loss: 0.0033 - accuracy: 1.0000 - val_loss: 2.2208 - val_accuracy: 0.5824\n",
      "Epoch 83/100\n",
      "32/32 [==============================] - 1s 30ms/step - loss: 0.0030 - accuracy: 1.0000 - val_loss: 2.2964 - val_accuracy: 0.5794\n",
      "Epoch 84/100\n",
      "32/32 [==============================] - 1s 30ms/step - loss: 0.0025 - accuracy: 1.0000 - val_loss: 2.3932 - val_accuracy: 0.5588\n",
      "Epoch 85/100\n",
      "32/32 [==============================] - 1s 30ms/step - loss: 0.0035 - accuracy: 1.0000 - val_loss: 2.3562 - val_accuracy: 0.5765\n",
      "Epoch 86/100\n",
      "32/32 [==============================] - 1s 30ms/step - loss: 0.0039 - accuracy: 0.9990 - val_loss: 2.4245 - val_accuracy: 0.5676\n",
      "Epoch 87/100\n",
      "32/32 [==============================] - 1s 30ms/step - loss: 0.0041 - accuracy: 1.0000 - val_loss: 2.3372 - val_accuracy: 0.5853\n",
      "Epoch 88/100\n",
      "32/32 [==============================] - 1s 30ms/step - loss: 0.0019 - accuracy: 1.0000 - val_loss: 2.3399 - val_accuracy: 0.5794\n",
      "Epoch 89/100\n",
      "32/32 [==============================] - 1s 30ms/step - loss: 0.0027 - accuracy: 1.0000 - val_loss: 2.3419 - val_accuracy: 0.5676\n",
      "Epoch 90/100\n",
      "32/32 [==============================] - 1s 30ms/step - loss: 0.0021 - accuracy: 1.0000 - val_loss: 2.3382 - val_accuracy: 0.5735\n",
      "Epoch 91/100\n",
      "32/32 [==============================] - 1s 30ms/step - loss: 0.0027 - accuracy: 1.0000 - val_loss: 2.3687 - val_accuracy: 0.5647\n",
      "Epoch 92/100\n",
      "32/32 [==============================] - 1s 30ms/step - loss: 0.0042 - accuracy: 0.9990 - val_loss: 2.3902 - val_accuracy: 0.5618\n",
      "Epoch 93/100\n",
      "32/32 [==============================] - 1s 30ms/step - loss: 0.0025 - accuracy: 1.0000 - val_loss: 2.3699 - val_accuracy: 0.5676\n",
      "Epoch 94/100\n",
      "32/32 [==============================] - 1s 30ms/step - loss: 0.0029 - accuracy: 1.0000 - val_loss: 2.3480 - val_accuracy: 0.5588\n",
      "Epoch 95/100\n",
      "32/32 [==============================] - 1s 30ms/step - loss: 0.0026 - accuracy: 1.0000 - val_loss: 2.3543 - val_accuracy: 0.5706\n",
      "Epoch 96/100\n",
      "32/32 [==============================] - 1s 30ms/step - loss: 0.0033 - accuracy: 1.0000 - val_loss: 2.4028 - val_accuracy: 0.5676\n",
      "Epoch 97/100\n",
      "32/32 [==============================] - 1s 30ms/step - loss: 0.0035 - accuracy: 1.0000 - val_loss: 2.4718 - val_accuracy: 0.5676\n",
      "Epoch 98/100\n",
      "32/32 [==============================] - 1s 30ms/step - loss: 0.0016 - accuracy: 1.0000 - val_loss: 2.3740 - val_accuracy: 0.5824\n",
      "Epoch 99/100\n",
      "32/32 [==============================] - 1s 30ms/step - loss: 0.0034 - accuracy: 1.0000 - val_loss: 2.3677 - val_accuracy: 0.5794\n",
      "Epoch 100/100\n",
      "32/32 [==============================] - 1s 30ms/step - loss: 0.0023 - accuracy: 1.0000 - val_loss: 2.4038 - val_accuracy: 0.5794\n"
     ]
    }
   ],
   "source": [
    "print(\"INFO compiling model\")\n",
    "model = MiniVGGNet.build(width=64, height=64, depth=3, classes=trainY.shape[1])\n",
    "model.compile(loss=\"categorical_crossentropy\", optimizer=SGD(lr=0.05), metrics=[\"accuracy\"])\n",
    "print(\"INFO training network\")\n",
    "H = model.fit(trainX, trainY, validation_data=(testX, testY), batch_size=32, epochs=100, verbose=1)"
   ]
  },
  {
   "cell_type": "code",
   "execution_count": 9,
   "metadata": {
    "colab": {
     "base_uri": "https://localhost:8080/",
     "height": 724
    },
    "colab_type": "code",
    "id": "4dXAvhjARaCv",
    "outputId": "3a52d6b3-339d-48c9-c28d-0c50753c64af"
   },
   "outputs": [
    {
     "name": "stdout",
     "output_type": "stream",
     "text": [
      "INFO evaluating network\n",
      "              precision    recall  f1-score   support\n",
      "\n",
      "           0       0.38      0.47      0.42        19\n",
      "           1       0.26      0.40      0.32        15\n",
      "           2       0.32      0.33      0.33        21\n",
      "           3       0.81      0.59      0.68        22\n",
      "           4       0.47      0.42      0.44        19\n",
      "           5       0.80      0.76      0.78        21\n",
      "           6       0.88      0.71      0.79        21\n",
      "           7       0.40      0.31      0.35        26\n",
      "           8       0.71      0.62      0.67        16\n",
      "           9       0.94      0.80      0.86        20\n",
      "          10       0.69      0.90      0.78        20\n",
      "          11       0.69      0.50      0.58        22\n",
      "          12       0.47      0.56      0.51        16\n",
      "          13       0.28      0.39      0.33        18\n",
      "          14       0.52      0.78      0.62        18\n",
      "          15       0.75      0.65      0.70        23\n",
      "          16       0.88      0.65      0.75        23\n",
      "\n",
      "    accuracy                           0.58       340\n",
      "   macro avg       0.60      0.58      0.58       340\n",
      "weighted avg       0.61      0.58      0.59       340\n",
      "\n"
     ]
    },
    {
     "data": {
      "image/png": "[encoded data removed]",
      "text/plain": [
       "<Figure size 432x288 with 1 Axes>"
      ]
     },
     "metadata": {
      "tags": []
     },
     "output_type": "display_data"
    }
   ],
   "source": [
    "print(\"INFO evaluating network\")\n",
    "predictions = model.predict(testX, batch_size=32)\n",
    "print(classification_report(testY.argmax(axis=1), \n",
    "                            predictions.argmax(axis=1), target_names=[str(x) for x in np.unique(labels).tolist()]))\n",
    "\n",
    "plt.style.use(\"ggplot\")\n",
    "plt.figure()\n",
    "plt.plot(np.arange(0, 100), H.history[\"loss\"], label=\"train_loss\")\n",
    "plt.plot(np.arange(0, 100), H.history[\"val_loss\"], label=\"val_loss\")\n",
    "plt.plot(np.arange(0, 100), H.history[\"accuracy\"], label=\"train_acc\")\n",
    "plt.plot(np.arange(0, 100), H.history[\"val_accuracy\"], label=\"val_acc\")\n",
    "plt.title(\"Training Loss and Accuracy\")\n",
    "plt.xlabel(\"Epoch #\")\n",
    "plt.ylabel(\"Loss/Accuracy\")\n",
    "plt.legend()\n",
    "plt.show()"
   ]
  },
  {
   "cell_type": "code",
   "execution_count": 13,
   "metadata": {
    "colab": {
     "base_uri": "https://localhost:8080/",
     "height": 51
    },
    "colab_type": "code",
    "id": "becHaPn9Hapz",
    "outputId": "d60cd6ea-e774-44aa-beb1-7045974ffe16"
   },
   "outputs": [
    {
     "name": "stdout",
     "output_type": "stream",
     "text": [
      "(340, 17)\n",
      "(340, 17)\n"
     ]
    }
   ],
   "source": [
    "print(testY.shape)\n",
    "print(predictions.shape)"
   ]
  },
  {
   "cell_type": "markdown",
   "metadata": {
    "colab_type": "text",
    "id": "05s32k0BAdBf"
   },
   "source": [
    "***\n",
    "# With Data Augmentation"
   ]
  },
  {
   "cell_type": "code",
   "execution_count": 10,
   "metadata": {
    "colab": {},
    "colab_type": "code",
    "id": "TXlE46jNqnyE"
   },
   "outputs": [],
   "source": [
    "from tensorflow.keras.preprocessing.image import ImageDataGenerator"
   ]
  },
  {
   "cell_type": "code",
   "execution_count": 11,
   "metadata": {
    "colab": {},
    "colab_type": "code",
    "id": "rpt67KrMA3x7"
   },
   "outputs": [],
   "source": [
    "aug = ImageDataGenerator(rotation_range=30, width_shift_range=0.1,\n",
    "                         height_shift_range=0.1, shear_range=0.2,\n",
    "                         zoom_range=0.2, horizontal_flip=True,\n",
    "                         fill_mode=\"nearest\")"
   ]
  },
  {
   "cell_type": "code",
   "execution_count": 12,
   "metadata": {
    "colab": {
     "base_uri": "https://localhost:8080/",
     "height": 34
    },
    "colab_type": "code",
    "id": "2SHqmUOEBMis",
    "outputId": "1d9585b0-46f3-4089-b9b2-2ec6f7821ae7"
   },
   "outputs": [
    {
     "name": "stdout",
     "output_type": "stream",
     "text": [
      "INFO compiling model\n"
     ]
    }
   ],
   "source": [
    "print(\"INFO compiling model\")\n",
    "model = MiniVGGNet.build(width=64, height=64, depth=3, classes=trainY.shape[1])\n",
    "model.compile(loss=\"categorical_crossentropy\", optimizer=SGD(lr=0.05), metrics=[\"accuracy\"])"
   ]
  },
  {
   "cell_type": "code",
   "execution_count": 14,
   "metadata": {
    "colab": {
     "base_uri": "https://localhost:8080/",
     "height": 1000
    },
    "colab_type": "code",
    "id": "UZEL4xQKBmJb",
    "outputId": "8f51f8d4-8171-49de-a813-2561cd956d5e"
   },
   "outputs": [
    {
     "name": "stdout",
     "output_type": "stream",
     "text": [
      "INFO training network\n",
      "WARNING:tensorflow:From <ipython-input-14-f7a1d27c7f44>:4: Model.fit_generator (from tensorflow.python.keras.engine.training) is deprecated and will be removed in a future version.\n",
      "Instructions for updating:\n",
      "Please use Model.fit, which supports generators.\n",
      "Epoch 1/100\n",
      "31/31 [==============================] - 2s 69ms/step - loss: 3.4190 - accuracy: 0.1852 - val_loss: 2.7065 - val_accuracy: 0.1559\n",
      "Epoch 2/100\n",
      "31/31 [==============================] - 2s 61ms/step - loss: 2.3865 - accuracy: 0.3775 - val_loss: 2.8136 - val_accuracy: 0.1441\n",
      "Epoch 3/100\n",
      "31/31 [==============================] - 2s 61ms/step - loss: 2.1459 - accuracy: 0.4089 - val_loss: 2.7142 - val_accuracy: 0.1559\n",
      "Epoch 4/100\n",
      "31/31 [==============================] - 2s 62ms/step - loss: 1.8308 - accuracy: 0.4524 - val_loss: 2.9833 - val_accuracy: 0.2029\n",
      "Epoch 5/100\n",
      "31/31 [==============================] - 2s 62ms/step - loss: 1.7890 - accuracy: 0.4636 - val_loss: 3.3099 - val_accuracy: 0.1853\n",
      "Epoch 6/100\n",
      "31/31 [==============================] - 2s 61ms/step - loss: 1.5985 - accuracy: 0.5051 - val_loss: 2.5776 - val_accuracy: 0.2676\n",
      "Epoch 7/100\n",
      "31/31 [==============================] - 2s 61ms/step - loss: 1.4945 - accuracy: 0.5304 - val_loss: 2.4405 - val_accuracy: 0.2765\n",
      "Epoch 8/100\n",
      "31/31 [==============================] - 2s 61ms/step - loss: 1.4437 - accuracy: 0.5688 - val_loss: 2.1608 - val_accuracy: 0.3529\n",
      "Epoch 9/100\n",
      "31/31 [==============================] - 2s 62ms/step - loss: 1.4576 - accuracy: 0.5385 - val_loss: 2.0340 - val_accuracy: 0.4529\n",
      "Epoch 10/100\n",
      "31/31 [==============================] - 2s 62ms/step - loss: 1.3799 - accuracy: 0.5668 - val_loss: 1.8927 - val_accuracy: 0.4353\n",
      "Epoch 11/100\n",
      "31/31 [==============================] - 2s 63ms/step - loss: 1.3541 - accuracy: 0.5759 - val_loss: 1.7695 - val_accuracy: 0.4647\n",
      "Epoch 12/100\n",
      "31/31 [==============================] - 2s 61ms/step - loss: 1.2700 - accuracy: 0.5982 - val_loss: 1.7135 - val_accuracy: 0.5412\n",
      "Epoch 13/100\n",
      "31/31 [==============================] - 2s 61ms/step - loss: 1.2457 - accuracy: 0.5941 - val_loss: 1.4488 - val_accuracy: 0.5382\n",
      "Epoch 14/100\n",
      "31/31 [==============================] - 2s 61ms/step - loss: 1.2628 - accuracy: 0.6164 - val_loss: 1.4066 - val_accuracy: 0.5853\n",
      "Epoch 15/100\n",
      "31/31 [==============================] - 2s 61ms/step - loss: 1.1662 - accuracy: 0.6447 - val_loss: 1.3663 - val_accuracy: 0.5941\n",
      "Epoch 16/100\n",
      "31/31 [==============================] - 2s 62ms/step - loss: 1.1948 - accuracy: 0.6326 - val_loss: 1.7180 - val_accuracy: 0.5265\n",
      "Epoch 17/100\n",
      "31/31 [==============================] - 2s 62ms/step - loss: 1.1746 - accuracy: 0.6225 - val_loss: 1.5094 - val_accuracy: 0.5676\n",
      "Epoch 18/100\n",
      "31/31 [==============================] - 2s 61ms/step - loss: 1.0371 - accuracy: 0.6630 - val_loss: 1.3043 - val_accuracy: 0.6265\n",
      "Epoch 19/100\n",
      "31/31 [==============================] - 2s 61ms/step - loss: 1.0551 - accuracy: 0.6579 - val_loss: 1.3921 - val_accuracy: 0.6206\n",
      "Epoch 20/100\n",
      "31/31 [==============================] - 2s 63ms/step - loss: 0.9978 - accuracy: 0.6714 - val_loss: 1.3360 - val_accuracy: 0.6382\n",
      "Epoch 21/100\n",
      "31/31 [==============================] - 2s 62ms/step - loss: 0.9958 - accuracy: 0.6791 - val_loss: 1.3984 - val_accuracy: 0.6324\n",
      "Epoch 22/100\n",
      "31/31 [==============================] - 2s 62ms/step - loss: 0.9474 - accuracy: 0.6852 - val_loss: 1.4249 - val_accuracy: 0.5794\n",
      "Epoch 23/100\n",
      "31/31 [==============================] - 2s 61ms/step - loss: 0.9562 - accuracy: 0.6694 - val_loss: 1.5929 - val_accuracy: 0.5824\n",
      "Epoch 24/100\n",
      "31/31 [==============================] - 2s 62ms/step - loss: 0.9115 - accuracy: 0.6933 - val_loss: 1.3145 - val_accuracy: 0.6412\n",
      "Epoch 25/100\n",
      "31/31 [==============================] - 2s 61ms/step - loss: 0.9477 - accuracy: 0.6802 - val_loss: 1.5193 - val_accuracy: 0.6118\n",
      "Epoch 26/100\n",
      "31/31 [==============================] - 2s 61ms/step - loss: 0.8566 - accuracy: 0.7267 - val_loss: 1.3444 - val_accuracy: 0.6294\n",
      "Epoch 27/100\n",
      "31/31 [==============================] - 2s 61ms/step - loss: 0.9024 - accuracy: 0.6964 - val_loss: 1.3743 - val_accuracy: 0.6353\n",
      "Epoch 28/100\n",
      "31/31 [==============================] - 2s 61ms/step - loss: 0.9254 - accuracy: 0.7045 - val_loss: 1.3359 - val_accuracy: 0.6412\n",
      "Epoch 29/100\n",
      "31/31 [==============================] - 2s 61ms/step - loss: 0.9640 - accuracy: 0.6852 - val_loss: 1.5783 - val_accuracy: 0.5647\n",
      "Epoch 30/100\n",
      "31/31 [==============================] - 2s 61ms/step - loss: 0.9371 - accuracy: 0.6964 - val_loss: 1.2948 - val_accuracy: 0.6412\n",
      "Epoch 31/100\n",
      "31/31 [==============================] - 2s 61ms/step - loss: 0.8563 - accuracy: 0.7075 - val_loss: 1.3174 - val_accuracy: 0.6265\n",
      "Epoch 32/100\n",
      "31/31 [==============================] - 2s 62ms/step - loss: 0.7475 - accuracy: 0.7470 - val_loss: 1.3748 - val_accuracy: 0.6206\n",
      "Epoch 33/100\n",
      "31/31 [==============================] - 2s 62ms/step - loss: 0.7893 - accuracy: 0.7419 - val_loss: 1.2565 - val_accuracy: 0.6647\n",
      "Epoch 34/100\n",
      "31/31 [==============================] - 2s 62ms/step - loss: 0.7711 - accuracy: 0.7510 - val_loss: 1.3282 - val_accuracy: 0.6647\n",
      "Epoch 35/100\n",
      "31/31 [==============================] - 2s 62ms/step - loss: 0.7308 - accuracy: 0.7328 - val_loss: 1.3598 - val_accuracy: 0.6441\n",
      "Epoch 36/100\n",
      "31/31 [==============================] - 2s 62ms/step - loss: 0.7392 - accuracy: 0.7490 - val_loss: 1.5370 - val_accuracy: 0.6324\n",
      "Epoch 37/100\n",
      "31/31 [==============================] - 2s 63ms/step - loss: 0.6773 - accuracy: 0.7632 - val_loss: 1.2489 - val_accuracy: 0.6618\n",
      "Epoch 38/100\n",
      "31/31 [==============================] - 2s 62ms/step - loss: 0.7355 - accuracy: 0.7652 - val_loss: 1.2638 - val_accuracy: 0.6559\n",
      "Epoch 39/100\n",
      "31/31 [==============================] - 2s 63ms/step - loss: 0.7132 - accuracy: 0.7551 - val_loss: 1.3256 - val_accuracy: 0.6529\n",
      "Epoch 40/100\n",
      "31/31 [==============================] - 2s 62ms/step - loss: 0.6590 - accuracy: 0.7662 - val_loss: 1.2900 - val_accuracy: 0.6647\n",
      "Epoch 41/100\n",
      "31/31 [==============================] - 2s 62ms/step - loss: 0.7126 - accuracy: 0.7662 - val_loss: 1.3291 - val_accuracy: 0.6382\n",
      "Epoch 42/100\n",
      "31/31 [==============================] - 2s 61ms/step - loss: 0.7518 - accuracy: 0.7439 - val_loss: 1.3173 - val_accuracy: 0.6529\n",
      "Epoch 43/100\n",
      "31/31 [==============================] - 2s 61ms/step - loss: 0.6800 - accuracy: 0.7540 - val_loss: 1.2330 - val_accuracy: 0.6794\n",
      "Epoch 44/100\n",
      "31/31 [==============================] - 2s 62ms/step - loss: 0.6434 - accuracy: 0.7763 - val_loss: 1.4586 - val_accuracy: 0.6500\n",
      "Epoch 45/100\n",
      "31/31 [==============================] - 2s 60ms/step - loss: 0.6110 - accuracy: 0.7925 - val_loss: 1.2709 - val_accuracy: 0.6588\n",
      "Epoch 46/100\n",
      "31/31 [==============================] - 2s 61ms/step - loss: 0.6211 - accuracy: 0.8036 - val_loss: 1.4121 - val_accuracy: 0.6706\n",
      "Epoch 47/100\n",
      "31/31 [==============================] - 2s 60ms/step - loss: 0.6147 - accuracy: 0.7915 - val_loss: 1.1991 - val_accuracy: 0.7000\n",
      "Epoch 48/100\n",
      "31/31 [==============================] - 2s 63ms/step - loss: 0.6124 - accuracy: 0.7885 - val_loss: 1.2618 - val_accuracy: 0.6765\n",
      "Epoch 49/100\n",
      "31/31 [==============================] - 2s 62ms/step - loss: 0.6280 - accuracy: 0.7844 - val_loss: 1.2624 - val_accuracy: 0.6647\n",
      "Epoch 50/100\n",
      "31/31 [==============================] - 2s 62ms/step - loss: 0.5909 - accuracy: 0.8117 - val_loss: 1.1929 - val_accuracy: 0.6912\n",
      "Epoch 51/100\n",
      "31/31 [==============================] - 2s 61ms/step - loss: 0.5747 - accuracy: 0.7996 - val_loss: 1.3798 - val_accuracy: 0.6588\n",
      "Epoch 52/100\n",
      "31/31 [==============================] - 2s 61ms/step - loss: 0.5651 - accuracy: 0.8087 - val_loss: 1.4661 - val_accuracy: 0.6471\n",
      "Epoch 53/100\n",
      "31/31 [==============================] - 2s 63ms/step - loss: 0.5074 - accuracy: 0.8320 - val_loss: 1.3420 - val_accuracy: 0.6882\n",
      "Epoch 54/100\n",
      "31/31 [==============================] - 2s 62ms/step - loss: 0.5917 - accuracy: 0.8067 - val_loss: 1.2531 - val_accuracy: 0.6559\n",
      "Epoch 55/100\n",
      "31/31 [==============================] - 2s 61ms/step - loss: 0.5242 - accuracy: 0.8209 - val_loss: 1.3375 - val_accuracy: 0.6588\n",
      "Epoch 56/100\n",
      "31/31 [==============================] - 2s 61ms/step - loss: 0.5263 - accuracy: 0.8057 - val_loss: 1.4031 - val_accuracy: 0.6588\n",
      "Epoch 57/100\n",
      "31/31 [==============================] - 2s 62ms/step - loss: 0.5214 - accuracy: 0.8198 - val_loss: 1.3206 - val_accuracy: 0.6588\n",
      "Epoch 58/100\n",
      "31/31 [==============================] - 2s 61ms/step - loss: 0.4732 - accuracy: 0.8370 - val_loss: 1.3039 - val_accuracy: 0.6765\n",
      "Epoch 59/100\n",
      "31/31 [==============================] - 2s 62ms/step - loss: 0.5161 - accuracy: 0.8269 - val_loss: 1.2927 - val_accuracy: 0.6559\n",
      "Epoch 60/100\n",
      "31/31 [==============================] - 2s 61ms/step - loss: 0.5081 - accuracy: 0.8391 - val_loss: 1.3459 - val_accuracy: 0.6824\n",
      "Epoch 61/100\n",
      "31/31 [==============================] - 2s 61ms/step - loss: 0.5157 - accuracy: 0.8128 - val_loss: 1.4074 - val_accuracy: 0.6735\n",
      "Epoch 62/100\n",
      "31/31 [==============================] - 2s 62ms/step - loss: 0.5407 - accuracy: 0.8128 - val_loss: 1.3085 - val_accuracy: 0.6912\n",
      "Epoch 63/100\n",
      "31/31 [==============================] - 2s 62ms/step - loss: 0.5216 - accuracy: 0.8138 - val_loss: 1.6724 - val_accuracy: 0.6529\n",
      "Epoch 64/100\n",
      "31/31 [==============================] - 2s 62ms/step - loss: 0.5013 - accuracy: 0.8330 - val_loss: 1.3794 - val_accuracy: 0.6853\n",
      "Epoch 65/100\n",
      "31/31 [==============================] - 2s 61ms/step - loss: 0.3847 - accuracy: 0.8694 - val_loss: 1.4002 - val_accuracy: 0.6676\n",
      "Epoch 66/100\n",
      "31/31 [==============================] - 2s 61ms/step - loss: 0.5092 - accuracy: 0.8236 - val_loss: 1.4689 - val_accuracy: 0.6618\n",
      "Epoch 67/100\n",
      "31/31 [==============================] - 2s 62ms/step - loss: 0.5170 - accuracy: 0.8279 - val_loss: 1.3080 - val_accuracy: 0.6676\n",
      "Epoch 68/100\n",
      "31/31 [==============================] - 2s 61ms/step - loss: 0.5145 - accuracy: 0.8411 - val_loss: 1.3413 - val_accuracy: 0.6794\n",
      "Epoch 69/100\n",
      "31/31 [==============================] - 2s 61ms/step - loss: 0.4698 - accuracy: 0.8401 - val_loss: 1.3453 - val_accuracy: 0.6765\n",
      "Epoch 70/100\n",
      "31/31 [==============================] - 2s 61ms/step - loss: 0.4508 - accuracy: 0.8583 - val_loss: 1.3415 - val_accuracy: 0.6735\n",
      "Epoch 71/100\n",
      "31/31 [==============================] - 2s 61ms/step - loss: 0.4696 - accuracy: 0.8249 - val_loss: 1.4768 - val_accuracy: 0.6824\n",
      "Epoch 72/100\n",
      "31/31 [==============================] - 2s 61ms/step - loss: 0.4431 - accuracy: 0.8512 - val_loss: 1.4046 - val_accuracy: 0.6853\n",
      "Epoch 73/100\n",
      "31/31 [==============================] - 2s 61ms/step - loss: 0.4103 - accuracy: 0.8684 - val_loss: 1.3387 - val_accuracy: 0.6912\n",
      "Epoch 74/100\n",
      "31/31 [==============================] - 2s 61ms/step - loss: 0.4262 - accuracy: 0.8563 - val_loss: 1.3303 - val_accuracy: 0.6559\n",
      "Epoch 75/100\n",
      "31/31 [==============================] - 2s 61ms/step - loss: 0.4187 - accuracy: 0.8583 - val_loss: 1.3683 - val_accuracy: 0.6706\n",
      "Epoch 76/100\n",
      "31/31 [==============================] - 2s 61ms/step - loss: 0.4216 - accuracy: 0.8593 - val_loss: 1.4474 - val_accuracy: 0.6735\n",
      "Epoch 77/100\n",
      "31/31 [==============================] - 2s 61ms/step - loss: 0.3993 - accuracy: 0.8745 - val_loss: 1.3581 - val_accuracy: 0.6853\n",
      "Epoch 78/100\n",
      "31/31 [==============================] - 2s 62ms/step - loss: 0.3528 - accuracy: 0.8826 - val_loss: 1.3075 - val_accuracy: 0.6882\n",
      "Epoch 79/100\n",
      "31/31 [==============================] - 2s 62ms/step - loss: 0.3665 - accuracy: 0.8644 - val_loss: 1.4104 - val_accuracy: 0.6794\n",
      "Epoch 80/100\n",
      "31/31 [==============================] - 2s 61ms/step - loss: 0.3986 - accuracy: 0.8664 - val_loss: 1.3984 - val_accuracy: 0.7029\n",
      "Epoch 81/100\n",
      "31/31 [==============================] - 2s 61ms/step - loss: 0.3435 - accuracy: 0.8856 - val_loss: 1.3112 - val_accuracy: 0.6853\n",
      "Epoch 82/100\n",
      "31/31 [==============================] - 2s 62ms/step - loss: 0.3328 - accuracy: 0.8907 - val_loss: 1.3867 - val_accuracy: 0.6941\n",
      "Epoch 83/100\n",
      "31/31 [==============================] - 2s 61ms/step - loss: 0.3625 - accuracy: 0.8806 - val_loss: 1.2603 - val_accuracy: 0.6941\n",
      "Epoch 84/100\n",
      "31/31 [==============================] - 2s 61ms/step - loss: 0.3710 - accuracy: 0.8735 - val_loss: 1.4933 - val_accuracy: 0.6588\n",
      "Epoch 85/100\n",
      "31/31 [==============================] - 2s 62ms/step - loss: 0.3819 - accuracy: 0.8715 - val_loss: 1.3305 - val_accuracy: 0.6882\n",
      "Epoch 86/100\n",
      "31/31 [==============================] - 2s 62ms/step - loss: 0.4009 - accuracy: 0.8715 - val_loss: 1.4351 - val_accuracy: 0.6765\n",
      "Epoch 87/100\n",
      "31/31 [==============================] - 2s 62ms/step - loss: 0.3903 - accuracy: 0.8745 - val_loss: 1.3633 - val_accuracy: 0.6706\n",
      "Epoch 88/100\n",
      "31/31 [==============================] - 2s 61ms/step - loss: 0.3709 - accuracy: 0.8725 - val_loss: 1.2716 - val_accuracy: 0.7029\n",
      "Epoch 89/100\n",
      "31/31 [==============================] - 2s 62ms/step - loss: 0.3491 - accuracy: 0.8887 - val_loss: 1.2757 - val_accuracy: 0.6853\n",
      "Epoch 90/100\n",
      "31/31 [==============================] - 2s 61ms/step - loss: 0.3361 - accuracy: 0.8877 - val_loss: 1.3614 - val_accuracy: 0.7147\n",
      "Epoch 91/100\n",
      "31/31 [==============================] - 2s 61ms/step - loss: 0.3601 - accuracy: 0.8816 - val_loss: 1.3559 - val_accuracy: 0.6941\n",
      "Epoch 92/100\n",
      "31/31 [==============================] - 2s 62ms/step - loss: 0.3515 - accuracy: 0.8877 - val_loss: 1.2956 - val_accuracy: 0.6853\n",
      "Epoch 93/100\n",
      "31/31 [==============================] - 2s 61ms/step - loss: 0.3701 - accuracy: 0.8745 - val_loss: 1.5827 - val_accuracy: 0.6765\n",
      "Epoch 94/100\n",
      "31/31 [==============================] - 2s 61ms/step - loss: 0.3798 - accuracy: 0.8674 - val_loss: 1.2947 - val_accuracy: 0.7000\n",
      "Epoch 95/100\n",
      "31/31 [==============================] - 2s 61ms/step - loss: 0.3204 - accuracy: 0.9008 - val_loss: 1.2761 - val_accuracy: 0.6853\n",
      "Epoch 96/100\n",
      "31/31 [==============================] - 2s 60ms/step - loss: 0.3145 - accuracy: 0.8846 - val_loss: 1.2897 - val_accuracy: 0.7147\n",
      "Epoch 97/100\n",
      "31/31 [==============================] - 2s 61ms/step - loss: 0.3307 - accuracy: 0.8897 - val_loss: 1.4461 - val_accuracy: 0.7029\n",
      "Epoch 98/100\n",
      "31/31 [==============================] - 2s 61ms/step - loss: 0.2609 - accuracy: 0.9089 - val_loss: 1.3237 - val_accuracy: 0.6882\n",
      "Epoch 99/100\n",
      "31/31 [==============================] - 2s 62ms/step - loss: 0.3528 - accuracy: 0.8704 - val_loss: 1.3608 - val_accuracy: 0.6853\n",
      "Epoch 100/100\n",
      "31/31 [==============================] - 2s 61ms/step - loss: 0.3418 - accuracy: 0.8796 - val_loss: 1.2534 - val_accuracy: 0.7029\n"
     ]
    }
   ],
   "source": [
    "print(\"INFO training network\")\n",
    "H = model.fit_generator(aug.flow(trainX, trainY, batch_size=32),\n",
    "                        validation_data=(testX, testY), steps_per_epoch=len(trainX)//32,\n",
    "                        epochs=100, verbose=1)"
   ]
  },
  {
   "cell_type": "code",
   "execution_count": 16,
   "metadata": {
    "colab": {
     "base_uri": "https://localhost:8080/",
     "height": 34
    },
    "colab_type": "code",
    "id": "yOZtRC1wB4h5",
    "outputId": "2b03aa39-f4ac-4e3a-dbd5-443ce02d08b2"
   },
   "outputs": [
    {
     "name": "stdout",
     "output_type": "stream",
     "text": [
      "INFO evaluating network\n"
     ]
    }
   ],
   "source": [
    "print(\"INFO evaluating network\")\n",
    "predictions = model.predict(testX, batch_size=32)"
   ]
  },
  {
   "cell_type": "code",
   "execution_count": 17,
   "metadata": {
    "colab": {
     "base_uri": "https://localhost:8080/",
     "height": 707
    },
    "colab_type": "code",
    "id": "cVei-_tbCSYT",
    "outputId": "b8f74a9a-1cc7-411f-ba3d-d5ad34d2f621"
   },
   "outputs": [
    {
     "name": "stdout",
     "output_type": "stream",
     "text": [
      "              precision    recall  f1-score   support\n",
      "\n",
      "           0       0.41      0.37      0.39        19\n",
      "           1       0.32      0.40      0.35        15\n",
      "           2       0.57      0.57      0.57        21\n",
      "           3       0.78      0.64      0.70        22\n",
      "           4       0.64      0.74      0.68        19\n",
      "           5       0.89      0.81      0.85        21\n",
      "           6       0.94      0.81      0.87        21\n",
      "           7       0.61      0.42      0.50        26\n",
      "           8       0.74      0.88      0.80        16\n",
      "           9       0.94      0.85      0.89        20\n",
      "          10       0.90      0.90      0.90        20\n",
      "          11       0.75      0.68      0.71        22\n",
      "          12       0.93      0.81      0.87        16\n",
      "          13       0.63      0.67      0.65        18\n",
      "          14       0.41      0.78      0.54        18\n",
      "          15       0.81      0.74      0.77        23\n",
      "          16       0.91      0.91      0.91        23\n",
      "\n",
      "    accuracy                           0.70       340\n",
      "   macro avg       0.72      0.70      0.70       340\n",
      "weighted avg       0.73      0.70      0.71       340\n",
      "\n"
     ]
    },
    {
     "data": {
      "image/png": "[encoded data removed]",
      "text/plain": [
       "<Figure size 432x288 with 1 Axes>"
      ]
     },
     "metadata": {
      "tags": []
     },
     "output_type": "display_data"
    }
   ],
   "source": [
    "print(classification_report(testY.argmax(axis=1),\n",
    "                            predictions.argmax(axis=1), target_names=[str(x) for x in np.unique(labels).tolist()]))\n",
    "\n",
    "plt.style.use(\"ggplot\")\n",
    "plt.figure()\n",
    "plt.plot(np.arange(0, 100), H.history[\"loss\"], label=\"train_loss\")\n",
    "plt.plot(np.arange(0, 100), H.history[\"val_loss\"], label=\"val_loss\")\n",
    "plt.plot(np.arange(0, 100), H.history[\"accuracy\"], label=\"train_acc\")\n",
    "plt.plot(np.arange(0, 100), H.history[\"val_accuracy\"], label=\"val_acc\")\n",
    "plt.title(\"Training Loss and Accuracy\")\n",
    "plt.xlabel(\"Epoch #\")\n",
    "plt.ylabel(\"Loss/Accuracy\")\n",
    "plt.legend()\n",
    "plt.show()"
   ]
  }
 ],
 "metadata": {
  "accelerator": "GPU",
  "colab": {
   "authorship_tag": "ABX9TyOnMV1hFos/YY5QjpmqeHFI",
   "collapsed_sections": [],
   "include_colab_link": true,
   "name": "data_augmentation.ipynb",
   "provenance": []
  },
  "kernelspec": {
   "display_name": "Python 3",
   "language": "python",
   "name": "python3"
  },
  "language_info": {
   "codemirror_mode": {
    "name": "ipython",
    "version": 3
   },
   "file_extension": ".py",
   "mimetype": "text/x-python",
   "name": "python",
   "nbconvert_exporter": "python",
   "pygments_lexer": "ipython3",
   "version": "3.8.2"
  }
 },
 "nbformat": 4,
 "nbformat_minor": 1
}
