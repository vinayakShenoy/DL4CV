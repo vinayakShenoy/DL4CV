{
 "cells": [
  {
   "cell_type": "markdown",
   "metadata": {},
   "source": [
    "# Layer Types\n",
    "- Convolutional layer (CONV)\n",
    "- Activation layer (ACT OR RELU)\n",
    "- Pooling layer (POOL)\n",
    "- Fully connected(FC)\n",
    "- Batch Normalization (BC)\n",
    "- Dropout (DO)\n",
    "\n",
    "## Convolutional Layers\n",
    "- Depth of output volume controls the number of neurons(i.e filters) in conv in the CONV layer that connect to a local region of the input\n",
    "- Depth of activation map will be K, or simply numner of filters we are learning in the current layer. \n",
    "\n",
    "## Activation layer\n",
    "- After each conv layer in CNN, we apply a nonlinear activation function,such as ReLU, ELU, etc.\n",
    "- Since the activation function is applied in an element-wise manner, the output of an activation layer is always the same as the input dimension\n",
    "\n",
    "## Pooling layers\n",
    "- To reduce size of input volume\n",
    "- Max pooling: 3x3 and stride=2\n",
    "- Overlapping pooling: F=3, s=2\n",
    "- Non overlapping: F=2, s=2\n",
    "\n",
    "## Fully Connected layers\n",
    "- Neurons in FC layer are fully connected to all activations in previous layer.\n",
    "\n",
    "## Batch Normalization\n",
    "- Used to normalize the activations of given input volume before passing it into next layer.\n",
    "- If we consider $x$ to be our mini-batch of activations, then we can compute the normalized $\\overline{x}$ via:\n",
    "$$\n",
    "\\overline{x} = \\frac{x_i-\\mu_{\\beta}}{\\sqrt{\\sigma_\\beta^2+\\epsilon}}\n",
    "$$\n",
    "- During training we compute $\\mu_\\beta$ and $\\sigma_beta$ over eaech mini-batch $\\beta$\n",
    "$$\n",
    "\\mu_\\beta = \\frac{1}{M}\\sum^m_{i=1}x_i\n",
    "$$\n",
    "$$\n",
    "\\sigma^2 = \\frac{1}{M}\\sum^m_{i=1}(x_i-\\mu_\\beta)^2\n",
    "$$\n",
    "- We use $epsilon=1e-7$ to avoid dviding by zero.\n",
    "- Using this, the activations leaving a Batch Norm will have appx zero mean and unit variance.\n",
    "- At testing time, we replace the mini-batch $\\mu_\\beta$ and $\\sigma_\\beta$ with running averages of $\\mu_\\beta$ and $\\sigma_\\beta$ computed during the training process.\n",
    "- Shown to be effective in reducing number of epochs and stabilizing training.\n",
    "- Place BN after Activation layer.\n",
    "\n",
    "## Dropout\n",
    "- form of regulariza-tion that aims to help prevent overfitting by increasing testing accuracy, perhaps at the expense of training accuracy.\n",
    "- For each mini-batch in our training set, dropout layers, with probability p, randomly disconnect inputs from the preceding layer to the next layer in the network architecture."
   ]
  },
  {
   "cell_type": "markdown",
   "metadata": {},
   "source": [
    "## Learnable Layers\n",
    "- CONV\n",
    "- FC\n",
    "- BN\n",
    "\n",
    "## Layer patterns\n",
    "$$\n",
    "INPUT => [[CONV=>RELU]*N=>POOL]*M=>[FC=>RELU]*K=>FC\n",
    "$$"
   ]
  },
  {
   "cell_type": "code",
   "execution_count": null,
   "metadata": {},
   "outputs": [],
   "source": []
  }
 ],
 "metadata": {
  "kernelspec": {
   "display_name": "Python 3",
   "language": "python",
   "name": "python3"
  },
  "language_info": {
   "codemirror_mode": {
    "name": "ipython",
    "version": 3
   },
   "file_extension": ".py",
   "mimetype": "text/x-python",
   "name": "python",
   "nbconvert_exporter": "python",
   "pygments_lexer": "ipython3",
   "version": "3.8.2"
  }
 },
 "nbformat": 4,
 "nbformat_minor": 4
}
